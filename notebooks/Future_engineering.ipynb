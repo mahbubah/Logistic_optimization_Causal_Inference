{
 "cells": [
  {
   "cell_type": "code",
   "execution_count": 64,
   "metadata": {},
   "outputs": [],
   "source": [
    "import pandas as pd\n",
    "import sys\n",
    "import matplotlib.pyplot as plt\n",
    "import seaborn as sns\n",
    "from datetime import datetime,timedelta\n",
    "import re\n",
    "from geopy.geocoders import Nominatim\n",
    "from geopy import distance\n",
    "import holidays"
   ]
  },
  {
   "cell_type": "code",
   "execution_count": 65,
   "metadata": {},
   "outputs": [],
   "source": [
    "completed_orders_cleaned = pd.read_csv('../data/completed_orders_cleaned.csv')\n"
   ]
  },
  {
   "cell_type": "code",
   "execution_count": 66,
   "metadata": {},
   "outputs": [
    {
     "data": {
      "text/plain": [
       "<bound method NDFrame.head of         trip_id                         trip_origin  \\\n",
       "0        391996  6.508813001668548,3.37740316890347   \n",
       "1        391997                 6.4316714,3.4555375   \n",
       "2        391998         6.631679399999999,3.3388976   \n",
       "3        391999         6.572757200000001,3.3677082   \n",
       "4        392001                 6.6010417,3.2766339   \n",
       "...         ...                                 ...   \n",
       "536015  1637696         6.448218499999999,3.4772075   \n",
       "536016  1637702         6.442320899999999,3.4736868   \n",
       "536017  1637704                  6.4281982,3.492248   \n",
       "536018  1637705                 6.5869296,3.3632966   \n",
       "536019  1637709         6.647209999999999,3.4851489   \n",
       "\n",
       "                            trip_destination      trip_start_time  \\\n",
       "0                6.650969799999999,3.3450307  2021-07-01 07:28:04   \n",
       "1            6.4280814653326,3.4721885847586  2021-07-01 06:38:04   \n",
       "2                6.508324099999999,3.3590397  2021-07-01 06:21:02   \n",
       "3                6.584881099999999,3.3614073  2021-07-01 07:16:07   \n",
       "4                        6.4501069,3.3916154  2021-07-01 09:30:59   \n",
       "...                                      ...                  ...   \n",
       "536015   6.437787399999999,3.481670199999999  2021-12-30 20:35:06   \n",
       "536016  6.436589333407897,3.5559738188407835  2021-12-30 20:48:13   \n",
       "536017           6.448088500000001,3.4775747  2021-12-30 20:51:45   \n",
       "536018           6.637906899999999,3.3339515  2021-12-30 20:48:50   \n",
       "536019   6.454915198823159,3.555839938365194  2021-12-30 20:55:38   \n",
       "\n",
       "              trip_end_time  duration_min   distance  holiday  \n",
       "0       2021-07-01 07:29:37      1.550000  16.123451    False  \n",
       "1       2021-07-01 07:07:28     29.400000   1.884305    False  \n",
       "2       2021-07-01 07:02:23     41.350000  13.822393    False  \n",
       "3       2021-07-01 07:29:42     13.583333   1.511034    False  \n",
       "4       2021-07-01 09:34:36      3.616667  20.984319    False  \n",
       "...                     ...           ...        ...      ...  \n",
       "536015  2021-12-30 21:02:59     27.883333   1.254752    False  \n",
       "536016  2021-12-30 21:43:49     55.600000   9.124781    False  \n",
       "536017  2021-12-30 21:41:32     49.783333   2.733704    False  \n",
       "536018  2021-12-30 21:08:28     19.633333   6.504796    False  \n",
       "536019  2021-12-30 22:25:00     89.366667  22.657280    False  \n",
       "\n",
       "[536020 rows x 8 columns]>"
      ]
     },
     "execution_count": 66,
     "metadata": {},
     "output_type": "execute_result"
    }
   ],
   "source": [
    "completed_orders_cleaned.head"
   ]
  },
  {
   "cell_type": "markdown",
   "metadata": {},
   "source": [
    "Create new features based on time and location, such as day of the week and hour of the day"
   ]
  },
  {
   "cell_type": "code",
   "execution_count": 67,
   "metadata": {},
   "outputs": [],
   "source": [
    "completed_orders_cleaned['trip_start_time'] = pd.to_datetime(completed_orders_cleaned['trip_start_time'])\n",
    "\n",
    "completed_orders_cleaned['Day of Week'] = completed_orders_cleaned['trip_start_time'].dt.dayofweek\n",
    "completed_orders_cleaned['Hour of Day'] = completed_orders_cleaned['trip_start_time'].dt.hour"
   ]
  },
  {
   "cell_type": "code",
   "execution_count": 68,
   "metadata": {},
   "outputs": [
    {
     "data": {
      "text/html": [
       "<div>\n",
       "<style scoped>\n",
       "    .dataframe tbody tr th:only-of-type {\n",
       "        vertical-align: middle;\n",
       "    }\n",
       "\n",
       "    .dataframe tbody tr th {\n",
       "        vertical-align: top;\n",
       "    }\n",
       "\n",
       "    .dataframe thead th {\n",
       "        text-align: right;\n",
       "    }\n",
       "</style>\n",
       "<table border=\"1\" class=\"dataframe\">\n",
       "  <thead>\n",
       "    <tr style=\"text-align: right;\">\n",
       "      <th></th>\n",
       "      <th>trip_id</th>\n",
       "      <th>trip_origin</th>\n",
       "      <th>trip_destination</th>\n",
       "      <th>trip_start_time</th>\n",
       "      <th>trip_end_time</th>\n",
       "      <th>duration_min</th>\n",
       "      <th>distance</th>\n",
       "      <th>holiday</th>\n",
       "      <th>Day of Week</th>\n",
       "      <th>Hour of Day</th>\n",
       "    </tr>\n",
       "  </thead>\n",
       "  <tbody>\n",
       "    <tr>\n",
       "      <th>0</th>\n",
       "      <td>391996</td>\n",
       "      <td>6.508813001668548,3.37740316890347</td>\n",
       "      <td>6.650969799999999,3.3450307</td>\n",
       "      <td>2021-07-01 07:28:04</td>\n",
       "      <td>2021-07-01 07:29:37</td>\n",
       "      <td>1.550000</td>\n",
       "      <td>16.123451</td>\n",
       "      <td>False</td>\n",
       "      <td>3</td>\n",
       "      <td>7</td>\n",
       "    </tr>\n",
       "    <tr>\n",
       "      <th>1</th>\n",
       "      <td>391997</td>\n",
       "      <td>6.4316714,3.4555375</td>\n",
       "      <td>6.4280814653326,3.4721885847586</td>\n",
       "      <td>2021-07-01 06:38:04</td>\n",
       "      <td>2021-07-01 07:07:28</td>\n",
       "      <td>29.400000</td>\n",
       "      <td>1.884305</td>\n",
       "      <td>False</td>\n",
       "      <td>3</td>\n",
       "      <td>6</td>\n",
       "    </tr>\n",
       "    <tr>\n",
       "      <th>2</th>\n",
       "      <td>391998</td>\n",
       "      <td>6.631679399999999,3.3388976</td>\n",
       "      <td>6.508324099999999,3.3590397</td>\n",
       "      <td>2021-07-01 06:21:02</td>\n",
       "      <td>2021-07-01 07:02:23</td>\n",
       "      <td>41.350000</td>\n",
       "      <td>13.822393</td>\n",
       "      <td>False</td>\n",
       "      <td>3</td>\n",
       "      <td>6</td>\n",
       "    </tr>\n",
       "    <tr>\n",
       "      <th>3</th>\n",
       "      <td>391999</td>\n",
       "      <td>6.572757200000001,3.3677082</td>\n",
       "      <td>6.584881099999999,3.3614073</td>\n",
       "      <td>2021-07-01 07:16:07</td>\n",
       "      <td>2021-07-01 07:29:42</td>\n",
       "      <td>13.583333</td>\n",
       "      <td>1.511034</td>\n",
       "      <td>False</td>\n",
       "      <td>3</td>\n",
       "      <td>7</td>\n",
       "    </tr>\n",
       "    <tr>\n",
       "      <th>4</th>\n",
       "      <td>392001</td>\n",
       "      <td>6.6010417,3.2766339</td>\n",
       "      <td>6.4501069,3.3916154</td>\n",
       "      <td>2021-07-01 09:30:59</td>\n",
       "      <td>2021-07-01 09:34:36</td>\n",
       "      <td>3.616667</td>\n",
       "      <td>20.984319</td>\n",
       "      <td>False</td>\n",
       "      <td>3</td>\n",
       "      <td>9</td>\n",
       "    </tr>\n",
       "  </tbody>\n",
       "</table>\n",
       "</div>"
      ],
      "text/plain": [
       "   trip_id                         trip_origin  \\\n",
       "0   391996  6.508813001668548,3.37740316890347   \n",
       "1   391997                 6.4316714,3.4555375   \n",
       "2   391998         6.631679399999999,3.3388976   \n",
       "3   391999         6.572757200000001,3.3677082   \n",
       "4   392001                 6.6010417,3.2766339   \n",
       "\n",
       "                  trip_destination     trip_start_time        trip_end_time  \\\n",
       "0      6.650969799999999,3.3450307 2021-07-01 07:28:04  2021-07-01 07:29:37   \n",
       "1  6.4280814653326,3.4721885847586 2021-07-01 06:38:04  2021-07-01 07:07:28   \n",
       "2      6.508324099999999,3.3590397 2021-07-01 06:21:02  2021-07-01 07:02:23   \n",
       "3      6.584881099999999,3.3614073 2021-07-01 07:16:07  2021-07-01 07:29:42   \n",
       "4              6.4501069,3.3916154 2021-07-01 09:30:59  2021-07-01 09:34:36   \n",
       "\n",
       "   duration_min   distance  holiday  Day of Week  Hour of Day  \n",
       "0      1.550000  16.123451    False            3            7  \n",
       "1     29.400000   1.884305    False            3            6  \n",
       "2     41.350000  13.822393    False            3            6  \n",
       "3     13.583333   1.511034    False            3            7  \n",
       "4      3.616667  20.984319    False            3            9  "
      ]
     },
     "execution_count": 68,
     "metadata": {},
     "output_type": "execute_result"
    }
   ],
   "source": [
    "completed_orders_cleaned.head()"
   ]
  },
  {
   "cell_type": "code",
   "execution_count": 69,
   "metadata": {},
   "outputs": [
    {
     "data": {
      "text/plain": [
       "trip_id             536020\n",
       "trip_origin         112142\n",
       "trip_destination    147520\n",
       "trip_start_time     513611\n",
       "trip_end_time       513855\n",
       "duration_min         23205\n",
       "distance            467322\n",
       "holiday                  2\n",
       "Day of Week              7\n",
       "Hour of Day             24\n",
       "dtype: int64"
      ]
     },
     "execution_count": 69,
     "metadata": {},
     "output_type": "execute_result"
    }
   ],
   "source": [
    "completed_orders_cleaned.nunique()"
   ]
  },
  {
   "cell_type": "code",
   "execution_count": 70,
   "metadata": {},
   "outputs": [
    {
     "data": {
      "image/png": "[encoded data removed]",
      "text/plain": [
       "<Figure size 600x600 with 1 Axes>"
      ]
     },
     "metadata": {},
     "output_type": "display_data"
    }
   ],
   "source": [
    "import pandas as pd\n",
    "import matplotlib.pyplot as plt\n",
    "\n",
    "# Assuming your DataFrame is named completed_orders_cleaned\n",
    "# Convert Day of Week values to actual day names for better visualization\n",
    "day_names = ['Monday', 'Tuesday', 'Wednesday', 'Thursday', 'Friday', 'Saturday', 'Sunday']\n",
    "completed_orders_cleaned['Day of Week'] = pd.Categorical(completed_orders_cleaned['Day of Week'], categories=day_names, ordered=True)\n",
    "\n",
    "# Count the occurrences of each day of the week\n",
    "day_of_week_counts = completed_orders_cleaned['Day of Week'].value_counts()\n",
    "\n",
    "# Plotting\n",
    "plt.figure(figsize=(6, 6))\n",
    "day_of_week_counts.sort_index().plot(kind='bar', color='skyblue')  # Sort by the order of the day names\n",
    "plt.title('Completed Orders by Day of Week')\n",
    "plt.xlabel('Day of Week')\n",
    "plt.ylabel('Number of Completed Orders')\n",
    "plt.xticks(rotation=45)  # Rotate x-axis labels for better readability\n",
    "plt.tight_layout()\n",
    "plt.show()"
   ]
  },
  {
   "cell_type": "code",
   "execution_count": 71,
   "metadata": {},
   "outputs": [
    {
     "data": {
      "image/png": "[encoded data removed]",
      "text/plain": [
       "<Figure size 800x400 with 1 Axes>"
      ]
     },
     "metadata": {},
     "output_type": "display_data"
    }
   ],
   "source": [
    "import pandas as pd\n",
    "import matplotlib.pyplot as plt\n",
    "\n",
    "# Assuming your DataFrame is named completed_orders_cleaned\n",
    "# Count the occurrences of each hour of the day\n",
    "hour_of_day_counts = completed_orders_cleaned['Hour of Day'].value_counts().sort_index()\n",
    "\n",
    "# Plotting\n",
    "plt.figure(figsize=(8, 4))\n",
    "hour_of_day_counts.plot(kind='bar', color='skyblue')\n",
    "plt.title('Distribution of Orders by Hour of Day')\n",
    "plt.xlabel('Hour of Day')\n",
    "plt.ylabel('Number of Orders')\n",
    "plt.xticks(rotation=0)  # Rotate x-axis labels for better readability\n",
    "plt.tight_layout()\n",
    "plt.show()\n"
   ]
  },
  {
   "cell_type": "code",
   "execution_count": 72,
   "metadata": {},
   "outputs": [],
   "source": [
    "completed_orders_cleaned.to_csv(\"../data/completed_orders_cleaned2.csv\",index=False)"
   ]
  },
  {
   "cell_type": "code",
   "execution_count": 73,
   "metadata": {},
   "outputs": [
    {
     "name": "stdout",
     "output_type": "stream",
     "text": [
      "        trip_id                         trip_origin  \\\n",
      "0        391996  6.508813001668548,3.37740316890347   \n",
      "1        391997                 6.4316714,3.4555375   \n",
      "2        391998         6.631679399999999,3.3388976   \n",
      "3        391999         6.572757200000001,3.3677082   \n",
      "4        392001                 6.6010417,3.2766339   \n",
      "...         ...                                 ...   \n",
      "536015  1637696         6.448218499999999,3.4772075   \n",
      "536016  1637702         6.442320899999999,3.4736868   \n",
      "536017  1637704                  6.4281982,3.492248   \n",
      "536018  1637705                 6.5869296,3.3632966   \n",
      "536019  1637709         6.647209999999999,3.4851489   \n",
      "\n",
      "                            trip_destination     trip_start_time  \\\n",
      "0                6.650969799999999,3.3450307 2021-07-01 07:28:04   \n",
      "1            6.4280814653326,3.4721885847586 2021-07-01 06:38:04   \n",
      "2                6.508324099999999,3.3590397 2021-07-01 06:21:02   \n",
      "3                6.584881099999999,3.3614073 2021-07-01 07:16:07   \n",
      "4                        6.4501069,3.3916154 2021-07-01 09:30:59   \n",
      "...                                      ...                 ...   \n",
      "536015   6.437787399999999,3.481670199999999 2021-12-30 20:35:06   \n",
      "536016  6.436589333407897,3.5559738188407835 2021-12-30 20:48:13   \n",
      "536017           6.448088500000001,3.4775747 2021-12-30 20:51:45   \n",
      "536018           6.637906899999999,3.3339515 2021-12-30 20:48:50   \n",
      "536019   6.454915198823159,3.555839938365194 2021-12-30 20:55:38   \n",
      "\n",
      "              trip_end_time  duration_min   distance  holiday Day of Week  \\\n",
      "0       2021-07-01 07:29:37      1.550000  16.123451    False         NaN   \n",
      "1       2021-07-01 07:07:28     29.400000   1.884305    False         NaN   \n",
      "2       2021-07-01 07:02:23     41.350000  13.822393    False         NaN   \n",
      "3       2021-07-01 07:29:42     13.583333   1.511034    False         NaN   \n",
      "4       2021-07-01 09:34:36      3.616667  20.984319    False         NaN   \n",
      "...                     ...           ...        ...      ...         ...   \n",
      "536015  2021-12-30 21:02:59     27.883333   1.254752    False         NaN   \n",
      "536016  2021-12-30 21:43:49     55.600000   9.124781    False         NaN   \n",
      "536017  2021-12-30 21:41:32     49.783333   2.733704    False         NaN   \n",
      "536018  2021-12-30 21:08:28     19.633333   6.504796    False         NaN   \n",
      "536019  2021-12-30 22:25:00     89.366667  22.657280    False         NaN   \n",
      "\n",
      "        Hour of Day  IsWeekend  \n",
      "0                 7       True  \n",
      "1                 6       True  \n",
      "2                 6       True  \n",
      "3                 7       True  \n",
      "4                 9       True  \n",
      "...             ...        ...  \n",
      "536015           20       True  \n",
      "536016           20       True  \n",
      "536017           20       True  \n",
      "536018           20       True  \n",
      "536019           20       True  \n",
      "\n",
      "[536020 rows x 11 columns]\n"
     ]
    }
   ],
   "source": [
    "# Step 1: Map day names to weekdays (1) or weekends (0)\n",
    "day_map = {\n",
    "    'Monday': 1, \n",
    "    'Tuesday': 1, \n",
    "    'Wednesday': 1, \n",
    "    'Thursday': 1, \n",
    "    'Friday': 1,\n",
    "    'Saturday': 0,\n",
    "    'Sunday': 0\n",
    "}\n",
    "completed_orders_cleaned['IsWeekend'] = completed_orders_cleaned['Day of Week'].map(day_map)\n",
    "\n",
    "# Step 2: Convert the mapped values to boolean\n",
    "completed_orders_cleaned['IsWeekend'] = completed_orders_cleaned['IsWeekend'].astype(bool)\n",
    "\n",
    "# Display the DataFrame with the new 'IsWeekend' column\n",
    "print(completed_orders_cleaned)\n"
   ]
  },
  {
   "cell_type": "code",
   "execution_count": 74,
   "metadata": {},
   "outputs": [],
   "source": [
    "#completed_orders_cleaned.to_csv(\"../data/completed_orders_cleaned2.csv\",index=False)"
   ]
  }
 ],
 "metadata": {
  "kernelspec": {
   "display_name": ".venv",
   "language": "python",
   "name": "python3"
  },
  "language_info": {
   "codemirror_mode": {
    "name": "ipython",
    "version": 3
   },
   "file_extension": ".py",
   "mimetype": "text/x-python",
   "name": "python",
   "nbconvert_exporter": "python",
   "pygments_lexer": "ipython3",
   "version": "3.10.12"
  }
 },
 "nbformat": 4,
 "nbformat_minor": 2
}
