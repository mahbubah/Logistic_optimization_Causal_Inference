{
 "cells": [
  {
   "cell_type": "code",
   "execution_count": 288,
   "metadata": {},
   "outputs": [],
   "source": [
    "import pandas as pd\n",
    "import sys\n",
    "import matplotlib.pyplot as plt\n",
    "import seaborn as sns\n",
    "from datetime import datetime,timedelta\n",
    "import re\n",
    "from geopy.geocoders import Nominatim\n",
    "from geopy import distance\n",
    "import holidays"
   ]
  },
  {
   "cell_type": "code",
   "execution_count": 289,
   "metadata": {},
   "outputs": [],
   "source": [
    "completed_orders = pd.read_csv('../data/nb.csv')\n",
    "delivery_requests = pd.read_csv('../data/driver_locations_during_request.csv')"
   ]
  },
  {
   "cell_type": "code",
   "execution_count": 290,
   "metadata": {},
   "outputs": [
    {
     "data": {
      "text/html": [
       "<div>\n",
       "<style scoped>\n",
       "    .dataframe tbody tr th:only-of-type {\n",
       "        vertical-align: middle;\n",
       "    }\n",
       "\n",
       "    .dataframe tbody tr th {\n",
       "        vertical-align: top;\n",
       "    }\n",
       "\n",
       "    .dataframe thead th {\n",
       "        text-align: right;\n",
       "    }\n",
       "</style>\n",
       "<table border=\"1\" class=\"dataframe\">\n",
       "  <thead>\n",
       "    <tr style=\"text-align: right;\">\n",
       "      <th></th>\n",
       "      <th>id</th>\n",
       "      <th>order_id</th>\n",
       "      <th>driver_id</th>\n",
       "      <th>driver_action</th>\n",
       "      <th>lat</th>\n",
       "      <th>lng</th>\n",
       "      <th>created_at</th>\n",
       "      <th>updated_at</th>\n",
       "    </tr>\n",
       "  </thead>\n",
       "  <tbody>\n",
       "    <tr>\n",
       "      <th>0</th>\n",
       "      <td>1</td>\n",
       "      <td>392001</td>\n",
       "      <td>243828</td>\n",
       "      <td>accepted</td>\n",
       "      <td>6.602207</td>\n",
       "      <td>3.270465</td>\n",
       "      <td>NaN</td>\n",
       "      <td>NaN</td>\n",
       "    </tr>\n",
       "    <tr>\n",
       "      <th>1</th>\n",
       "      <td>2</td>\n",
       "      <td>392001</td>\n",
       "      <td>243588</td>\n",
       "      <td>rejected</td>\n",
       "      <td>6.592097</td>\n",
       "      <td>3.287445</td>\n",
       "      <td>NaN</td>\n",
       "      <td>NaN</td>\n",
       "    </tr>\n",
       "    <tr>\n",
       "      <th>2</th>\n",
       "      <td>3</td>\n",
       "      <td>392001</td>\n",
       "      <td>243830</td>\n",
       "      <td>rejected</td>\n",
       "      <td>6.596133</td>\n",
       "      <td>3.281784</td>\n",
       "      <td>NaN</td>\n",
       "      <td>NaN</td>\n",
       "    </tr>\n",
       "    <tr>\n",
       "      <th>3</th>\n",
       "      <td>4</td>\n",
       "      <td>392001</td>\n",
       "      <td>243539</td>\n",
       "      <td>rejected</td>\n",
       "      <td>6.596142</td>\n",
       "      <td>3.280526</td>\n",
       "      <td>NaN</td>\n",
       "      <td>NaN</td>\n",
       "    </tr>\n",
       "    <tr>\n",
       "      <th>4</th>\n",
       "      <td>5</td>\n",
       "      <td>392001</td>\n",
       "      <td>171653</td>\n",
       "      <td>rejected</td>\n",
       "      <td>6.609232</td>\n",
       "      <td>3.288800</td>\n",
       "      <td>NaN</td>\n",
       "      <td>NaN</td>\n",
       "    </tr>\n",
       "  </tbody>\n",
       "</table>\n",
       "</div>"
      ],
      "text/plain": [
       "   id  order_id  driver_id driver_action       lat       lng  created_at  \\\n",
       "0   1    392001     243828      accepted  6.602207  3.270465         NaN   \n",
       "1   2    392001     243588      rejected  6.592097  3.287445         NaN   \n",
       "2   3    392001     243830      rejected  6.596133  3.281784         NaN   \n",
       "3   4    392001     243539      rejected  6.596142  3.280526         NaN   \n",
       "4   5    392001     171653      rejected  6.609232  3.288800         NaN   \n",
       "\n",
       "   updated_at  \n",
       "0         NaN  \n",
       "1         NaN  \n",
       "2         NaN  \n",
       "3         NaN  \n",
       "4         NaN  "
      ]
     },
     "execution_count": 290,
     "metadata": {},
     "output_type": "execute_result"
    }
   ],
   "source": [
    "delivery_requests.head()"
   ]
  },
  {
   "cell_type": "code",
   "execution_count": 291,
   "metadata": {},
   "outputs": [
    {
     "data": {
      "text/plain": [
       "(1557740, 8)"
      ]
     },
     "execution_count": 291,
     "metadata": {},
     "output_type": "execute_result"
    }
   ],
   "source": [
    "delivery_requests.shape"
   ]
  },
  {
   "cell_type": "code",
   "execution_count": 292,
   "metadata": {},
   "outputs": [
    {
     "name": "stdout",
     "output_type": "stream",
     "text": [
      "<class 'pandas.core.frame.DataFrame'>\n",
      "RangeIndex: 1557740 entries, 0 to 1557739\n",
      "Data columns (total 8 columns):\n",
      " #   Column         Non-Null Count    Dtype  \n",
      "---  ------         --------------    -----  \n",
      " 0   id             1557740 non-null  int64  \n",
      " 1   order_id       1557740 non-null  int64  \n",
      " 2   driver_id      1557740 non-null  int64  \n",
      " 3   driver_action  1557740 non-null  object \n",
      " 4   lat            1557740 non-null  float64\n",
      " 5   lng            1557740 non-null  float64\n",
      " 6   created_at     0 non-null        float64\n",
      " 7   updated_at     0 non-null        float64\n",
      "dtypes: float64(4), int64(3), object(1)\n",
      "memory usage: 95.1+ MB\n"
     ]
    }
   ],
   "source": [
    "delivery_requests.info()"
   ]
  },
  {
   "cell_type": "code",
   "execution_count": 293,
   "metadata": {},
   "outputs": [
    {
     "data": {
      "text/plain": [
       "id                     0\n",
       "order_id               0\n",
       "driver_id              0\n",
       "driver_action          0\n",
       "lat                    0\n",
       "lng                    0\n",
       "created_at       1557740\n",
       "updated_at       1557740\n",
       "dtype: int64"
      ]
     },
     "execution_count": 293,
     "metadata": {},
     "output_type": "execute_result"
    }
   ],
   "source": [
    "delivery_requests.isna().sum()"
   ]
  },
  {
   "cell_type": "markdown",
   "metadata": {},
   "source": [
    "delete the columns created_at and updated_at because there is no data found in them"
   ]
  },
  {
   "cell_type": "code",
   "execution_count": 294,
   "metadata": {},
   "outputs": [],
   "source": [
    "delivery_requests.drop(columns=['created_at'], inplace=True)\n",
    "delivery_requests.drop(columns=['updated_at'], inplace=True)"
   ]
  },
  {
   "cell_type": "code",
   "execution_count": 295,
   "metadata": {},
   "outputs": [
    {
     "data": {
      "text/plain": [
       "id               0\n",
       "order_id         0\n",
       "driver_id        0\n",
       "driver_action    0\n",
       "lat              0\n",
       "lng              0\n",
       "dtype: int64"
      ]
     },
     "execution_count": 295,
     "metadata": {},
     "output_type": "execute_result"
    }
   ],
   "source": [
    "delivery_requests.isna().sum()"
   ]
  },
  {
   "cell_type": "code",
   "execution_count": 296,
   "metadata": {},
   "outputs": [
    {
     "data": {
      "text/html": [
       "<div>\n",
       "<style scoped>\n",
       "    .dataframe tbody tr th:only-of-type {\n",
       "        vertical-align: middle;\n",
       "    }\n",
       "\n",
       "    .dataframe tbody tr th {\n",
       "        vertical-align: top;\n",
       "    }\n",
       "\n",
       "    .dataframe thead th {\n",
       "        text-align: right;\n",
       "    }\n",
       "</style>\n",
       "<table border=\"1\" class=\"dataframe\">\n",
       "  <thead>\n",
       "    <tr style=\"text-align: right;\">\n",
       "      <th></th>\n",
       "      <th>order_id</th>\n",
       "      <th>driver_id</th>\n",
       "      <th>driver_action</th>\n",
       "      <th>size</th>\n",
       "    </tr>\n",
       "  </thead>\n",
       "  <tbody>\n",
       "    <tr>\n",
       "      <th>0</th>\n",
       "      <td>392001</td>\n",
       "      <td>171651</td>\n",
       "      <td>rejected</td>\n",
       "      <td>1</td>\n",
       "    </tr>\n",
       "    <tr>\n",
       "      <th>1</th>\n",
       "      <td>392001</td>\n",
       "      <td>171653</td>\n",
       "      <td>rejected</td>\n",
       "      <td>1</td>\n",
       "    </tr>\n",
       "    <tr>\n",
       "      <th>2</th>\n",
       "      <td>392001</td>\n",
       "      <td>226949</td>\n",
       "      <td>rejected</td>\n",
       "      <td>1</td>\n",
       "    </tr>\n",
       "    <tr>\n",
       "      <th>3</th>\n",
       "      <td>392001</td>\n",
       "      <td>243539</td>\n",
       "      <td>rejected</td>\n",
       "      <td>1</td>\n",
       "    </tr>\n",
       "    <tr>\n",
       "      <th>4</th>\n",
       "      <td>392001</td>\n",
       "      <td>243588</td>\n",
       "      <td>rejected</td>\n",
       "      <td>1</td>\n",
       "    </tr>\n",
       "  </tbody>\n",
       "</table>\n",
       "</div>"
      ],
      "text/plain": [
       "   order_id  driver_id driver_action  size\n",
       "0    392001     171651      rejected     1\n",
       "1    392001     171653      rejected     1\n",
       "2    392001     226949      rejected     1\n",
       "3    392001     243539      rejected     1\n",
       "4    392001     243588      rejected     1"
      ]
     },
     "execution_count": 296,
     "metadata": {},
     "output_type": "execute_result"
    }
   ],
   "source": [
    "grouped_delivery=delivery_requests.groupby([\"order_id\",\"driver_id\",\"driver_action\"],as_index=False).size()\n",
    "grouped_delivery.head()"
   ]
  },
  {
   "cell_type": "code",
   "execution_count": 297,
   "metadata": {},
   "outputs": [
    {
     "data": {
      "text/html": [
       "<div>\n",
       "<style scoped>\n",
       "    .dataframe tbody tr th:only-of-type {\n",
       "        vertical-align: middle;\n",
       "    }\n",
       "\n",
       "    .dataframe tbody tr th {\n",
       "        vertical-align: top;\n",
       "    }\n",
       "\n",
       "    .dataframe thead th {\n",
       "        text-align: right;\n",
       "    }\n",
       "</style>\n",
       "<table border=\"1\" class=\"dataframe\">\n",
       "  <thead>\n",
       "    <tr style=\"text-align: right;\">\n",
       "      <th></th>\n",
       "      <th>order_id</th>\n",
       "      <th>driver_action</th>\n",
       "      <th>count</th>\n",
       "    </tr>\n",
       "  </thead>\n",
       "  <tbody>\n",
       "    <tr>\n",
       "      <th>0</th>\n",
       "      <td>392001</td>\n",
       "      <td>accepted</td>\n",
       "      <td>1</td>\n",
       "    </tr>\n",
       "    <tr>\n",
       "      <th>1</th>\n",
       "      <td>392001</td>\n",
       "      <td>rejected</td>\n",
       "      <td>9</td>\n",
       "    </tr>\n",
       "    <tr>\n",
       "      <th>2</th>\n",
       "      <td>392005</td>\n",
       "      <td>accepted</td>\n",
       "      <td>1</td>\n",
       "    </tr>\n",
       "    <tr>\n",
       "      <th>3</th>\n",
       "      <td>392005</td>\n",
       "      <td>rejected</td>\n",
       "      <td>17</td>\n",
       "    </tr>\n",
       "    <tr>\n",
       "      <th>4</th>\n",
       "      <td>392009</td>\n",
       "      <td>accepted</td>\n",
       "      <td>1</td>\n",
       "    </tr>\n",
       "  </tbody>\n",
       "</table>\n",
       "</div>"
      ],
      "text/plain": [
       "   order_id driver_action  count\n",
       "0    392001      accepted      1\n",
       "1    392001      rejected      9\n",
       "2    392005      accepted      1\n",
       "3    392005      rejected     17\n",
       "4    392009      accepted      1"
      ]
     },
     "execution_count": 297,
     "metadata": {},
     "output_type": "execute_result"
    }
   ],
   "source": [
    "grouped_delivery_new=grouped_delivery.groupby([\"order_id\",\"driver_action\"],as_index=False).size()\n",
    "\n",
    "\n",
    "grouped_delivery_new.rename(columns={\"size\":\"count\"},inplace=True)\n",
    "grouped_delivery_new.head()\n"
   ]
  },
  {
   "cell_type": "code",
   "execution_count": 298,
   "metadata": {},
   "outputs": [],
   "source": [
    "accepted_orders=grouped_delivery_new[grouped_delivery_new[\"driver_action\"]==\"accepted\"]\n",
    "rejected_orders=grouped_delivery_new[~grouped_delivery_new.order_id.isin(accepted_orders.order_id)]"
   ]
  },
  {
   "cell_type": "code",
   "execution_count": 299,
   "metadata": {},
   "outputs": [
    {
     "data": {
      "text/html": [
       "<div>\n",
       "<style scoped>\n",
       "    .dataframe tbody tr th:only-of-type {\n",
       "        vertical-align: middle;\n",
       "    }\n",
       "\n",
       "    .dataframe tbody tr th {\n",
       "        vertical-align: top;\n",
       "    }\n",
       "\n",
       "    .dataframe thead th {\n",
       "        text-align: right;\n",
       "    }\n",
       "</style>\n",
       "<table border=\"1\" class=\"dataframe\">\n",
       "  <thead>\n",
       "    <tr style=\"text-align: right;\">\n",
       "      <th></th>\n",
       "      <th>order_id</th>\n",
       "      <th>driver_action</th>\n",
       "      <th>count</th>\n",
       "    </tr>\n",
       "  </thead>\n",
       "  <tbody>\n",
       "    <tr>\n",
       "      <th>0</th>\n",
       "      <td>392001</td>\n",
       "      <td>accepted</td>\n",
       "      <td>1</td>\n",
       "    </tr>\n",
       "    <tr>\n",
       "      <th>2</th>\n",
       "      <td>392005</td>\n",
       "      <td>accepted</td>\n",
       "      <td>1</td>\n",
       "    </tr>\n",
       "    <tr>\n",
       "      <th>4</th>\n",
       "      <td>392009</td>\n",
       "      <td>accepted</td>\n",
       "      <td>1</td>\n",
       "    </tr>\n",
       "    <tr>\n",
       "      <th>6</th>\n",
       "      <td>392013</td>\n",
       "      <td>accepted</td>\n",
       "      <td>1</td>\n",
       "    </tr>\n",
       "    <tr>\n",
       "      <th>8</th>\n",
       "      <td>392014</td>\n",
       "      <td>accepted</td>\n",
       "      <td>1</td>\n",
       "    </tr>\n",
       "  </tbody>\n",
       "</table>\n",
       "</div>"
      ],
      "text/plain": [
       "   order_id driver_action  count\n",
       "0    392001      accepted      1\n",
       "2    392005      accepted      1\n",
       "4    392009      accepted      1\n",
       "6    392013      accepted      1\n",
       "8    392014      accepted      1"
      ]
     },
     "execution_count": 299,
     "metadata": {},
     "output_type": "execute_result"
    }
   ],
   "source": [
    "accepted_orders.head()"
   ]
  },
  {
   "cell_type": "code",
   "execution_count": 300,
   "metadata": {},
   "outputs": [
    {
     "data": {
      "text/html": [
       "<div>\n",
       "<style scoped>\n",
       "    .dataframe tbody tr th:only-of-type {\n",
       "        vertical-align: middle;\n",
       "    }\n",
       "\n",
       "    .dataframe tbody tr th {\n",
       "        vertical-align: top;\n",
       "    }\n",
       "\n",
       "    .dataframe thead th {\n",
       "        text-align: right;\n",
       "    }\n",
       "</style>\n",
       "<table border=\"1\" class=\"dataframe\">\n",
       "  <thead>\n",
       "    <tr style=\"text-align: right;\">\n",
       "      <th></th>\n",
       "      <th>order_id</th>\n",
       "      <th>driver_action</th>\n",
       "      <th>count</th>\n",
       "    </tr>\n",
       "  </thead>\n",
       "  <tbody>\n",
       "    <tr>\n",
       "      <th>1216</th>\n",
       "      <td>393128</td>\n",
       "      <td>rejected</td>\n",
       "      <td>32</td>\n",
       "    </tr>\n",
       "    <tr>\n",
       "      <th>1269</th>\n",
       "      <td>393177</td>\n",
       "      <td>rejected</td>\n",
       "      <td>16</td>\n",
       "    </tr>\n",
       "    <tr>\n",
       "      <th>1407</th>\n",
       "      <td>393291</td>\n",
       "      <td>rejected</td>\n",
       "      <td>2</td>\n",
       "    </tr>\n",
       "    <tr>\n",
       "      <th>1917</th>\n",
       "      <td>393737</td>\n",
       "      <td>rejected</td>\n",
       "      <td>9</td>\n",
       "    </tr>\n",
       "    <tr>\n",
       "      <th>1990</th>\n",
       "      <td>393809</td>\n",
       "      <td>rejected</td>\n",
       "      <td>14</td>\n",
       "    </tr>\n",
       "  </tbody>\n",
       "</table>\n",
       "</div>"
      ],
      "text/plain": [
       "      order_id driver_action  count\n",
       "1216    393128      rejected     32\n",
       "1269    393177      rejected     16\n",
       "1407    393291      rejected      2\n",
       "1917    393737      rejected      9\n",
       "1990    393809      rejected     14"
      ]
     },
     "execution_count": 300,
     "metadata": {},
     "output_type": "execute_result"
    }
   ],
   "source": [
    "rejected_orders.head()"
   ]
  },
  {
   "cell_type": "code",
   "execution_count": 301,
   "metadata": {},
   "outputs": [
    {
     "data": {
      "image/png": "[encoded data removed]",
      "text/plain": [
       "<Figure size 640x480 with 1 Axes>"
      ]
     },
     "metadata": {},
     "output_type": "display_data"
    }
   ],
   "source": [
    "import matplotlib.pyplot as plt\n",
    "\n",
    "# Assuming you have the DataFrames accepted_orders and rejected_orders as shown in your example\n",
    "\n",
    "# Counting the number of unique order IDs for accepted and rejected orders\n",
    "accepted_order_count = accepted_orders['order_id'].nunique()\n",
    "rejected_order_count = rejected_orders['order_id'].nunique()\n",
    "\n",
    "# Pie chart labels\n",
    "labels = ['Accepted', 'Rejected']\n",
    "\n",
    "# Pie chart data\n",
    "sizes = [accepted_order_count, rejected_order_count]\n",
    "\n",
    "# Pie chart colors\n",
    "colors = ['lightgreen', 'lightcoral']\n",
    "\n",
    "# Plotting the pie chart\n",
    "plt.pie(sizes, labels=labels, colors=colors, autopct='%1.1f%%', startangle=140)\n",
    "\n",
    "# Equal aspect ratio ensures that pie is drawn as a circle\n",
    "plt.axis('equal')\n",
    "\n",
    "# Adding a title\n",
    "plt.title('Distribution of Accepted and Rejected Order IDs')\n",
    "\n",
    "# Show plot\n",
    "plt.show()\n"
   ]
  },
  {
   "cell_type": "code",
   "execution_count": 302,
   "metadata": {},
   "outputs": [
    {
     "data": {
      "image/png": "[encoded data removed]",
      "text/plain": [
       "<Figure size 800x600 with 1 Axes>"
      ]
     },
     "metadata": {},
     "output_type": "display_data"
    }
   ],
   "source": [
    "import matplotlib.pyplot as plt\n",
    "\n",
    "# Assuming you have the DataFrames accepted_orders and rejected_orders as shown in your example\n",
    "\n",
    "# Counting the number of unique order IDs for accepted and rejected orders\n",
    "accepted_order_count = accepted_orders['order_id'].nunique()\n",
    "rejected_order_count = rejected_orders['order_id'].nunique()\n",
    "\n",
    "# Bar chart labels\n",
    "labels = ['Accepted', 'Rejected']\n",
    "\n",
    "# Bar chart data\n",
    "counts = [accepted_order_count, rejected_order_count]\n",
    "\n",
    "# Plotting the bar chart\n",
    "plt.figure(figsize=(8, 6))\n",
    "plt.bar(labels, counts, color=['lightgreen', 'lightcoral'])\n",
    "\n",
    "# Adding labels and title\n",
    "plt.xlabel('Order Status')\n",
    "plt.ylabel('Number of Unique Order IDs')\n",
    "plt.show()\n"
   ]
  },
  {
   "cell_type": "markdown",
   "metadata": {},
   "source": [
    "merging the two datasets on order_id eqauls trip_id"
   ]
  },
  {
   "cell_type": "code",
   "execution_count": 303,
   "metadata": {},
   "outputs": [
    {
     "data": {
      "text/plain": [
       "trip_id             536020\n",
       "trip_origin         112142\n",
       "trip_destination    147520\n",
       "trip_start_time     513611\n",
       "trip_end_time       513855\n",
       "duration_min         23205\n",
       "distance            467322\n",
       "holiday                  2\n",
       "Day of Week              7\n",
       "Hour of Day             24\n",
       "dtype: int64"
      ]
     },
     "execution_count": 303,
     "metadata": {},
     "output_type": "execute_result"
    }
   ],
   "source": [
    "completed_orders_cleaned = pd.read_csv('../data/completed_orders_cleaned2.csv')\n",
    "completed_orders_cleaned.nunique()"
   ]
  },
  {
   "cell_type": "code",
   "execution_count": 304,
   "metadata": {},
   "outputs": [
    {
     "data": {
      "text/plain": [
       "id               1557740\n",
       "order_id           26492\n",
       "driver_id           1213\n",
       "driver_action          2\n",
       "lat               194406\n",
       "lng               170385\n",
       "dtype: int64"
      ]
     },
     "execution_count": 304,
     "metadata": {},
     "output_type": "execute_result"
    }
   ],
   "source": [
    "delivery_requests.nunique()"
   ]
  },
  {
   "cell_type": "code",
   "execution_count": 305,
   "metadata": {},
   "outputs": [],
   "source": [
    "completed_orders_useful_data = completed_orders_cleaned[[\"trip_id\",\"trip_origin\",\"trip_start_time\",\"duration_min\",\"holiday\",\"Day of Week\",\"Hour of Day\"]]"
   ]
  },
  {
   "cell_type": "code",
   "execution_count": 306,
   "metadata": {},
   "outputs": [
    {
     "name": "stderr",
     "output_type": "stream",
     "text": [
      "/tmp/ipykernel_5248/2592935453.py:3: SettingWithCopyWarning: \n",
      "A value is trying to be set on a copy of a slice from a DataFrame.\n",
      "Try using .loc[row_indexer,col_indexer] = value instead\n",
      "\n",
      "See the caveats in the documentation: https://pandas.pydata.org/pandas-docs/stable/user_guide/indexing.html#returning-a-view-versus-a-copy\n",
      "  completed_orders_useful_data['origin_lat'],completed_orders_useful_data['origin_lng']=lat,lon\n",
      "/tmp/ipykernel_5248/2592935453.py:3: SettingWithCopyWarning: \n",
      "A value is trying to be set on a copy of a slice from a DataFrame.\n",
      "Try using .loc[row_indexer,col_indexer] = value instead\n",
      "\n",
      "See the caveats in the documentation: https://pandas.pydata.org/pandas-docs/stable/user_guide/indexing.html#returning-a-view-versus-a-copy\n",
      "  completed_orders_useful_data['origin_lat'],completed_orders_useful_data['origin_lng']=lat,lon\n",
      "/tmp/ipykernel_5248/2592935453.py:4: SettingWithCopyWarning: \n",
      "A value is trying to be set on a copy of a slice from a DataFrame\n",
      "\n",
      "See the caveats in the documentation: https://pandas.pydata.org/pandas-docs/stable/user_guide/indexing.html#returning-a-view-versus-a-copy\n",
      "  completed_orders_useful_data.rename(columns={\"trip_id\":\"order_id\"},inplace=True)\n",
      "/tmp/ipykernel_5248/2592935453.py:5: SettingWithCopyWarning: \n",
      "A value is trying to be set on a copy of a slice from a DataFrame\n",
      "\n",
      "See the caveats in the documentation: https://pandas.pydata.org/pandas-docs/stable/user_guide/indexing.html#returning-a-view-versus-a-copy\n",
      "  completed_orders_useful_data.drop(columns=\"trip_origin\",inplace=True)\n"
     ]
    }
   ],
   "source": [
    "lat = completed_orders_useful_data[\"trip_origin\"].apply(lambda x:x.split(',')[0])\n",
    "lon = completed_orders_useful_data[\"trip_origin\"].apply(lambda x:x.split(',')[1])\n",
    "completed_orders_useful_data['origin_lat'],completed_orders_useful_data['origin_lng']=lat,lon\n",
    "completed_orders_useful_data.rename(columns={\"trip_id\":\"order_id\"},inplace=True)\n",
    "completed_orders_useful_data.drop(columns=\"trip_origin\",inplace=True)"
   ]
  },
  {
   "cell_type": "code",
   "execution_count": 307,
   "metadata": {},
   "outputs": [],
   "source": [
    "delivery_requests.rename(columns={\"lat\":\"driver_lat\",\"lng\":\"driver_lng\"},inplace=True)"
   ]
  },
  {
   "cell_type": "code",
   "execution_count": 308,
   "metadata": {},
   "outputs": [],
   "source": [
    "delivery_requests.to_csv(\"../data/delivery_requests_cleaned.csv\",index=False)"
   ]
  },
  {
   "cell_type": "code",
   "execution_count": 309,
   "metadata": {},
   "outputs": [],
   "source": [
    "merged_dataframe = delivery_requests.merge(completed_orders_useful_data,on=\"order_id\")\n",
    "merged_dataframe.to_csv(\"../data/merged_dataframe.csv\",index=False)"
   ]
  },
  {
   "cell_type": "code",
   "execution_count": 310,
   "metadata": {},
   "outputs": [
    {
     "data": {
      "text/plain": [
       "<bound method NDFrame.head of               id  order_id  driver_id driver_action  driver_lat  driver_lng  \\\n",
       "0              1    392001     243828      accepted    6.602207    3.270465   \n",
       "1              2    392001     243588      rejected    6.592097    3.287445   \n",
       "2              3    392001     243830      rejected    6.596133    3.281784   \n",
       "3              4    392001     243539      rejected    6.596142    3.280526   \n",
       "4              5    392001     171653      rejected    6.609232    3.288800   \n",
       "...          ...       ...        ...           ...         ...         ...   \n",
       "1557735  1557736    517948     243774      rejected    6.469036    3.566877   \n",
       "1557736  1557737    517948     245447      rejected    6.425431    3.527358   \n",
       "1557737  1557738    517948     239866      rejected    6.440013    3.525378   \n",
       "1557738  1557739    517948     243774      rejected    6.469036    3.566877   \n",
       "1557739  1557740    517948     244170      rejected    6.469390    3.572079   \n",
       "\n",
       "             trip_start_time  duration_min  holiday Day of Week  Hour of Day  \\\n",
       "0        2021-07-01 09:30:59      3.616667    False    Thursday            9   \n",
       "1        2021-07-01 09:30:59      3.616667    False    Thursday            9   \n",
       "2        2021-07-01 09:30:59      3.616667    False    Thursday            9   \n",
       "3        2021-07-01 09:30:59      3.616667    False    Thursday            9   \n",
       "4        2021-07-01 09:30:59      3.616667    False    Thursday            9   \n",
       "...                      ...           ...      ...         ...          ...   \n",
       "1557735  2021-09-10 11:47:26    102.783333    False      Friday           11   \n",
       "1557736  2021-09-10 11:47:26    102.783333    False      Friday           11   \n",
       "1557737  2021-09-10 11:47:26    102.783333    False      Friday           11   \n",
       "1557738  2021-09-10 11:47:26    102.783333    False      Friday           11   \n",
       "1557739  2021-09-10 11:47:26    102.783333    False      Friday           11   \n",
       "\n",
       "         origin_lat  origin_lng  \n",
       "0          6.601042    3.276634  \n",
       "1          6.601042    3.276634  \n",
       "2          6.601042    3.276634  \n",
       "3          6.601042    3.276634  \n",
       "4          6.601042    3.276634  \n",
       "...             ...         ...  \n",
       "1557735    6.443374    3.552312  \n",
       "1557736    6.443374    3.552312  \n",
       "1557737    6.443374    3.552312  \n",
       "1557738    6.443374    3.552312  \n",
       "1557739    6.443374    3.552312  \n",
       "\n",
       "[1557740 rows x 13 columns]>"
      ]
     },
     "execution_count": 310,
     "metadata": {},
     "output_type": "execute_result"
    }
   ],
   "source": [
    "merged_df = pd.read_csv('../data/merged_dataframe.csv')\n",
    "merged_df.head"
   ]
  },
  {
   "cell_type": "code",
   "execution_count": 311,
   "metadata": {},
   "outputs": [],
   "source": [
    "delivery_requests_new=delivery_requests.groupby([\"order_id\",\"driver_action\"],as_index=False).agg(\n",
    "    {\n",
    "        \"driver_id\":\"count\",\n",
    "        \"driver_lat\":\"mean\",\n",
    "        \"driver_lng\":\"mean\",\n",
    "    }\n",
    "    )"
   ]
  },
  {
   "cell_type": "code",
   "execution_count": 312,
   "metadata": {},
   "outputs": [
    {
     "data": {
      "text/html": [
       "<div>\n",
       "<style scoped>\n",
       "    .dataframe tbody tr th:only-of-type {\n",
       "        vertical-align: middle;\n",
       "    }\n",
       "\n",
       "    .dataframe tbody tr th {\n",
       "        vertical-align: top;\n",
       "    }\n",
       "\n",
       "    .dataframe thead th {\n",
       "        text-align: right;\n",
       "    }\n",
       "</style>\n",
       "<table border=\"1\" class=\"dataframe\">\n",
       "  <thead>\n",
       "    <tr style=\"text-align: right;\">\n",
       "      <th></th>\n",
       "      <th>order_id</th>\n",
       "      <th>driver_action</th>\n",
       "      <th>driver_id</th>\n",
       "      <th>driver_lat</th>\n",
       "      <th>driver_lng</th>\n",
       "    </tr>\n",
       "  </thead>\n",
       "  <tbody>\n",
       "    <tr>\n",
       "      <th>0</th>\n",
       "      <td>392001</td>\n",
       "      <td>accepted</td>\n",
       "      <td>1</td>\n",
       "      <td>6.602207</td>\n",
       "      <td>3.270465</td>\n",
       "    </tr>\n",
       "    <tr>\n",
       "      <th>1</th>\n",
       "      <td>392001</td>\n",
       "      <td>rejected</td>\n",
       "      <td>9</td>\n",
       "      <td>6.602246</td>\n",
       "      <td>3.280118</td>\n",
       "    </tr>\n",
       "    <tr>\n",
       "      <th>2</th>\n",
       "      <td>392005</td>\n",
       "      <td>accepted</td>\n",
       "      <td>1</td>\n",
       "      <td>6.549147</td>\n",
       "      <td>3.392184</td>\n",
       "    </tr>\n",
       "    <tr>\n",
       "      <th>3</th>\n",
       "      <td>392005</td>\n",
       "      <td>rejected</td>\n",
       "      <td>50</td>\n",
       "      <td>6.566354</td>\n",
       "      <td>3.376415</td>\n",
       "    </tr>\n",
       "    <tr>\n",
       "      <th>4</th>\n",
       "      <td>392009</td>\n",
       "      <td>accepted</td>\n",
       "      <td>1</td>\n",
       "      <td>6.644829</td>\n",
       "      <td>3.289328</td>\n",
       "    </tr>\n",
       "    <tr>\n",
       "      <th>...</th>\n",
       "      <td>...</td>\n",
       "      <td>...</td>\n",
       "      <td>...</td>\n",
       "      <td>...</td>\n",
       "      <td>...</td>\n",
       "    </tr>\n",
       "    <tr>\n",
       "      <th>51243</th>\n",
       "      <td>497721</td>\n",
       "      <td>rejected</td>\n",
       "      <td>2</td>\n",
       "      <td>6.476228</td>\n",
       "      <td>3.374449</td>\n",
       "    </tr>\n",
       "    <tr>\n",
       "      <th>51244</th>\n",
       "      <td>510268</td>\n",
       "      <td>accepted</td>\n",
       "      <td>1</td>\n",
       "      <td>6.462251</td>\n",
       "      <td>3.391023</td>\n",
       "    </tr>\n",
       "    <tr>\n",
       "      <th>51245</th>\n",
       "      <td>510268</td>\n",
       "      <td>rejected</td>\n",
       "      <td>3</td>\n",
       "      <td>6.442820</td>\n",
       "      <td>3.418730</td>\n",
       "    </tr>\n",
       "    <tr>\n",
       "      <th>51246</th>\n",
       "      <td>517948</td>\n",
       "      <td>accepted</td>\n",
       "      <td>1</td>\n",
       "      <td>6.464150</td>\n",
       "      <td>3.552330</td>\n",
       "    </tr>\n",
       "    <tr>\n",
       "      <th>51247</th>\n",
       "      <td>517948</td>\n",
       "      <td>rejected</td>\n",
       "      <td>62</td>\n",
       "      <td>6.448686</td>\n",
       "      <td>3.547973</td>\n",
       "    </tr>\n",
       "  </tbody>\n",
       "</table>\n",
       "<p>51248 rows × 5 columns</p>\n",
       "</div>"
      ],
      "text/plain": [
       "       order_id driver_action  driver_id  driver_lat  driver_lng\n",
       "0        392001      accepted          1    6.602207    3.270465\n",
       "1        392001      rejected          9    6.602246    3.280118\n",
       "2        392005      accepted          1    6.549147    3.392184\n",
       "3        392005      rejected         50    6.566354    3.376415\n",
       "4        392009      accepted          1    6.644829    3.289328\n",
       "...         ...           ...        ...         ...         ...\n",
       "51243    497721      rejected          2    6.476228    3.374449\n",
       "51244    510268      accepted          1    6.462251    3.391023\n",
       "51245    510268      rejected          3    6.442820    3.418730\n",
       "51246    517948      accepted          1    6.464150    3.552330\n",
       "51247    517948      rejected         62    6.448686    3.547973\n",
       "\n",
       "[51248 rows x 5 columns]"
      ]
     },
     "execution_count": 312,
     "metadata": {},
     "output_type": "execute_result"
    }
   ],
   "source": [
    "delivery_requests_new"
   ]
  },
  {
   "cell_type": "code",
   "execution_count": 313,
   "metadata": {},
   "outputs": [],
   "source": [
    "accepted_delivery_orders=delivery_requests_new[delivery_requests_new[\"driver_action\"]==\"accepted\"]\n",
    "rejected_delivery_orders=delivery_requests_new[~delivery_requests_new.order_id.isin(accepted_orders.order_id)]"
   ]
  },
  {
   "cell_type": "code",
   "execution_count": 314,
   "metadata": {},
   "outputs": [
    {
     "data": {
      "text/html": [
       "<div>\n",
       "<style scoped>\n",
       "    .dataframe tbody tr th:only-of-type {\n",
       "        vertical-align: middle;\n",
       "    }\n",
       "\n",
       "    .dataframe tbody tr th {\n",
       "        vertical-align: top;\n",
       "    }\n",
       "\n",
       "    .dataframe thead th {\n",
       "        text-align: right;\n",
       "    }\n",
       "</style>\n",
       "<table border=\"1\" class=\"dataframe\">\n",
       "  <thead>\n",
       "    <tr style=\"text-align: right;\">\n",
       "      <th></th>\n",
       "      <th>order_id</th>\n",
       "      <th>driver_action</th>\n",
       "      <th>driver_id</th>\n",
       "      <th>driver_lat</th>\n",
       "      <th>driver_lng</th>\n",
       "    </tr>\n",
       "  </thead>\n",
       "  <tbody>\n",
       "    <tr>\n",
       "      <th>0</th>\n",
       "      <td>392001</td>\n",
       "      <td>accepted</td>\n",
       "      <td>1</td>\n",
       "      <td>6.602207</td>\n",
       "      <td>3.270465</td>\n",
       "    </tr>\n",
       "    <tr>\n",
       "      <th>2</th>\n",
       "      <td>392005</td>\n",
       "      <td>accepted</td>\n",
       "      <td>1</td>\n",
       "      <td>6.549147</td>\n",
       "      <td>3.392184</td>\n",
       "    </tr>\n",
       "    <tr>\n",
       "      <th>4</th>\n",
       "      <td>392009</td>\n",
       "      <td>accepted</td>\n",
       "      <td>1</td>\n",
       "      <td>6.644829</td>\n",
       "      <td>3.289328</td>\n",
       "    </tr>\n",
       "    <tr>\n",
       "      <th>6</th>\n",
       "      <td>392013</td>\n",
       "      <td>accepted</td>\n",
       "      <td>1</td>\n",
       "      <td>6.435331</td>\n",
       "      <td>3.424317</td>\n",
       "    </tr>\n",
       "    <tr>\n",
       "      <th>8</th>\n",
       "      <td>392014</td>\n",
       "      <td>accepted</td>\n",
       "      <td>1</td>\n",
       "      <td>6.498221</td>\n",
       "      <td>3.360042</td>\n",
       "    </tr>\n",
       "    <tr>\n",
       "      <th>...</th>\n",
       "      <td>...</td>\n",
       "      <td>...</td>\n",
       "      <td>...</td>\n",
       "      <td>...</td>\n",
       "      <td>...</td>\n",
       "    </tr>\n",
       "    <tr>\n",
       "      <th>51238</th>\n",
       "      <td>489898</td>\n",
       "      <td>accepted</td>\n",
       "      <td>1</td>\n",
       "      <td>6.443810</td>\n",
       "      <td>3.464208</td>\n",
       "    </tr>\n",
       "    <tr>\n",
       "      <th>51240</th>\n",
       "      <td>490008</td>\n",
       "      <td>accepted</td>\n",
       "      <td>1</td>\n",
       "      <td>6.448554</td>\n",
       "      <td>3.574380</td>\n",
       "    </tr>\n",
       "    <tr>\n",
       "      <th>51242</th>\n",
       "      <td>497721</td>\n",
       "      <td>accepted</td>\n",
       "      <td>1</td>\n",
       "      <td>6.498164</td>\n",
       "      <td>3.359964</td>\n",
       "    </tr>\n",
       "    <tr>\n",
       "      <th>51244</th>\n",
       "      <td>510268</td>\n",
       "      <td>accepted</td>\n",
       "      <td>1</td>\n",
       "      <td>6.462251</td>\n",
       "      <td>3.391023</td>\n",
       "    </tr>\n",
       "    <tr>\n",
       "      <th>51246</th>\n",
       "      <td>517948</td>\n",
       "      <td>accepted</td>\n",
       "      <td>1</td>\n",
       "      <td>6.464150</td>\n",
       "      <td>3.552330</td>\n",
       "    </tr>\n",
       "  </tbody>\n",
       "</table>\n",
       "<p>25881 rows × 5 columns</p>\n",
       "</div>"
      ],
      "text/plain": [
       "       order_id driver_action  driver_id  driver_lat  driver_lng\n",
       "0        392001      accepted          1    6.602207    3.270465\n",
       "2        392005      accepted          1    6.549147    3.392184\n",
       "4        392009      accepted          1    6.644829    3.289328\n",
       "6        392013      accepted          1    6.435331    3.424317\n",
       "8        392014      accepted          1    6.498221    3.360042\n",
       "...         ...           ...        ...         ...         ...\n",
       "51238    489898      accepted          1    6.443810    3.464208\n",
       "51240    490008      accepted          1    6.448554    3.574380\n",
       "51242    497721      accepted          1    6.498164    3.359964\n",
       "51244    510268      accepted          1    6.462251    3.391023\n",
       "51246    517948      accepted          1    6.464150    3.552330\n",
       "\n",
       "[25881 rows x 5 columns]"
      ]
     },
     "execution_count": 314,
     "metadata": {},
     "output_type": "execute_result"
    }
   ],
   "source": [
    "accepted_delivery_orders"
   ]
  },
  {
   "cell_type": "code",
   "execution_count": 315,
   "metadata": {},
   "outputs": [
    {
     "data": {
      "text/html": [
       "<div>\n",
       "<style scoped>\n",
       "    .dataframe tbody tr th:only-of-type {\n",
       "        vertical-align: middle;\n",
       "    }\n",
       "\n",
       "    .dataframe tbody tr th {\n",
       "        vertical-align: top;\n",
       "    }\n",
       "\n",
       "    .dataframe thead th {\n",
       "        text-align: right;\n",
       "    }\n",
       "</style>\n",
       "<table border=\"1\" class=\"dataframe\">\n",
       "  <thead>\n",
       "    <tr style=\"text-align: right;\">\n",
       "      <th></th>\n",
       "      <th>order_id</th>\n",
       "      <th>driver_action</th>\n",
       "      <th>driver_id</th>\n",
       "      <th>driver_lat</th>\n",
       "      <th>driver_lng</th>\n",
       "    </tr>\n",
       "  </thead>\n",
       "  <tbody>\n",
       "    <tr>\n",
       "      <th>1216</th>\n",
       "      <td>393128</td>\n",
       "      <td>rejected</td>\n",
       "      <td>249</td>\n",
       "      <td>6.448078</td>\n",
       "      <td>3.471102</td>\n",
       "    </tr>\n",
       "    <tr>\n",
       "      <th>1269</th>\n",
       "      <td>393177</td>\n",
       "      <td>rejected</td>\n",
       "      <td>53</td>\n",
       "      <td>6.433693</td>\n",
       "      <td>3.434249</td>\n",
       "    </tr>\n",
       "    <tr>\n",
       "      <th>1407</th>\n",
       "      <td>393291</td>\n",
       "      <td>rejected</td>\n",
       "      <td>2</td>\n",
       "      <td>6.472269</td>\n",
       "      <td>3.595364</td>\n",
       "    </tr>\n",
       "    <tr>\n",
       "      <th>1917</th>\n",
       "      <td>393737</td>\n",
       "      <td>rejected</td>\n",
       "      <td>34</td>\n",
       "      <td>6.581892</td>\n",
       "      <td>3.284952</td>\n",
       "    </tr>\n",
       "    <tr>\n",
       "      <th>1990</th>\n",
       "      <td>393809</td>\n",
       "      <td>rejected</td>\n",
       "      <td>14</td>\n",
       "      <td>6.432379</td>\n",
       "      <td>3.430111</td>\n",
       "    </tr>\n",
       "    <tr>\n",
       "      <th>...</th>\n",
       "      <td>...</td>\n",
       "      <td>...</td>\n",
       "      <td>...</td>\n",
       "      <td>...</td>\n",
       "      <td>...</td>\n",
       "    </tr>\n",
       "    <tr>\n",
       "      <th>50859</th>\n",
       "      <td>448163</td>\n",
       "      <td>rejected</td>\n",
       "      <td>50</td>\n",
       "      <td>6.548443</td>\n",
       "      <td>3.367682</td>\n",
       "    </tr>\n",
       "    <tr>\n",
       "      <th>50904</th>\n",
       "      <td>448206</td>\n",
       "      <td>rejected</td>\n",
       "      <td>45</td>\n",
       "      <td>6.629031</td>\n",
       "      <td>3.349366</td>\n",
       "    </tr>\n",
       "    <tr>\n",
       "      <th>50929</th>\n",
       "      <td>448235</td>\n",
       "      <td>rejected</td>\n",
       "      <td>345</td>\n",
       "      <td>6.599802</td>\n",
       "      <td>3.335208</td>\n",
       "    </tr>\n",
       "    <tr>\n",
       "      <th>51067</th>\n",
       "      <td>448373</td>\n",
       "      <td>rejected</td>\n",
       "      <td>30</td>\n",
       "      <td>6.589903</td>\n",
       "      <td>3.346469</td>\n",
       "    </tr>\n",
       "    <tr>\n",
       "      <th>51135</th>\n",
       "      <td>448463</td>\n",
       "      <td>rejected</td>\n",
       "      <td>30</td>\n",
       "      <td>6.543287</td>\n",
       "      <td>3.379595</td>\n",
       "    </tr>\n",
       "  </tbody>\n",
       "</table>\n",
       "<p>611 rows × 5 columns</p>\n",
       "</div>"
      ],
      "text/plain": [
       "       order_id driver_action  driver_id  driver_lat  driver_lng\n",
       "1216     393128      rejected        249    6.448078    3.471102\n",
       "1269     393177      rejected         53    6.433693    3.434249\n",
       "1407     393291      rejected          2    6.472269    3.595364\n",
       "1917     393737      rejected         34    6.581892    3.284952\n",
       "1990     393809      rejected         14    6.432379    3.430111\n",
       "...         ...           ...        ...         ...         ...\n",
       "50859    448163      rejected         50    6.548443    3.367682\n",
       "50904    448206      rejected         45    6.629031    3.349366\n",
       "50929    448235      rejected        345    6.599802    3.335208\n",
       "51067    448373      rejected         30    6.589903    3.346469\n",
       "51135    448463      rejected         30    6.543287    3.379595\n",
       "\n",
       "[611 rows x 5 columns]"
      ]
     },
     "execution_count": 315,
     "metadata": {},
     "output_type": "execute_result"
    }
   ],
   "source": [
    "rejected_delivery_orders"
   ]
  },
  {
   "cell_type": "code",
   "execution_count": 316,
   "metadata": {},
   "outputs": [],
   "source": [
    "# Assuming accepted_delivery_orders and rejected_delivery_orders are DataFrame objects\n",
    "unique_delivery_orders = pd.concat([accepted_delivery_orders, rejected_delivery_orders])\n",
    "\n",
    "# Now you can proceed with your merging and renaming operations\n",
    "clean_merged_df = unique_delivery_orders.merge(completed_orders_useful_data, on=\"order_id\")\n",
    "clean_merged_df.rename(columns={\"driver_id\": \"action_count\"}, inplace=True)"
   ]
  },
  {
   "cell_type": "code",
   "execution_count": 317,
   "metadata": {},
   "outputs": [
    {
     "data": {
      "text/html": [
       "<div>\n",
       "<style scoped>\n",
       "    .dataframe tbody tr th:only-of-type {\n",
       "        vertical-align: middle;\n",
       "    }\n",
       "\n",
       "    .dataframe tbody tr th {\n",
       "        vertical-align: top;\n",
       "    }\n",
       "\n",
       "    .dataframe thead th {\n",
       "        text-align: right;\n",
       "    }\n",
       "</style>\n",
       "<table border=\"1\" class=\"dataframe\">\n",
       "  <thead>\n",
       "    <tr style=\"text-align: right;\">\n",
       "      <th></th>\n",
       "      <th>order_id</th>\n",
       "      <th>driver_action</th>\n",
       "      <th>action_count</th>\n",
       "      <th>driver_lat</th>\n",
       "      <th>driver_lng</th>\n",
       "      <th>trip_start_time</th>\n",
       "      <th>duration_min</th>\n",
       "      <th>holiday</th>\n",
       "      <th>Day of Week</th>\n",
       "      <th>Hour of Day</th>\n",
       "      <th>origin_lat</th>\n",
       "      <th>origin_lng</th>\n",
       "    </tr>\n",
       "  </thead>\n",
       "  <tbody>\n",
       "    <tr>\n",
       "      <th>0</th>\n",
       "      <td>392001</td>\n",
       "      <td>accepted</td>\n",
       "      <td>1</td>\n",
       "      <td>6.602207</td>\n",
       "      <td>3.270465</td>\n",
       "      <td>2021-07-01 09:30:59</td>\n",
       "      <td>3.616667</td>\n",
       "      <td>False</td>\n",
       "      <td>Thursday</td>\n",
       "      <td>9</td>\n",
       "      <td>6.6010417</td>\n",
       "      <td>3.2766339</td>\n",
       "    </tr>\n",
       "    <tr>\n",
       "      <th>1</th>\n",
       "      <td>392005</td>\n",
       "      <td>accepted</td>\n",
       "      <td>1</td>\n",
       "      <td>6.549147</td>\n",
       "      <td>3.392184</td>\n",
       "      <td>2021-07-01 10:53:36</td>\n",
       "      <td>34.250000</td>\n",
       "      <td>False</td>\n",
       "      <td>Thursday</td>\n",
       "      <td>10</td>\n",
       "      <td>6.565087699999999</td>\n",
       "      <td>3.3844415</td>\n",
       "    </tr>\n",
       "    <tr>\n",
       "      <th>2</th>\n",
       "      <td>392009</td>\n",
       "      <td>accepted</td>\n",
       "      <td>1</td>\n",
       "      <td>6.644829</td>\n",
       "      <td>3.289328</td>\n",
       "      <td>2021-07-01 06:39:51</td>\n",
       "      <td>61.350000</td>\n",
       "      <td>False</td>\n",
       "      <td>Thursday</td>\n",
       "      <td>6</td>\n",
       "      <td>6.6636484</td>\n",
       "      <td>3.3082058</td>\n",
       "    </tr>\n",
       "    <tr>\n",
       "      <th>3</th>\n",
       "      <td>392013</td>\n",
       "      <td>accepted</td>\n",
       "      <td>1</td>\n",
       "      <td>6.435331</td>\n",
       "      <td>3.424317</td>\n",
       "      <td>2021-07-01 08:44:09</td>\n",
       "      <td>35.033333</td>\n",
       "      <td>False</td>\n",
       "      <td>Thursday</td>\n",
       "      <td>8</td>\n",
       "      <td>6.4308171</td>\n",
       "      <td>3.4341552</td>\n",
       "    </tr>\n",
       "    <tr>\n",
       "      <th>4</th>\n",
       "      <td>392014</td>\n",
       "      <td>accepted</td>\n",
       "      <td>1</td>\n",
       "      <td>6.498221</td>\n",
       "      <td>3.360042</td>\n",
       "      <td>2021-07-01 06:43:07</td>\n",
       "      <td>44.283333</td>\n",
       "      <td>False</td>\n",
       "      <td>Thursday</td>\n",
       "      <td>6</td>\n",
       "      <td>6.499156300000001</td>\n",
       "      <td>3.3585173</td>\n",
       "    </tr>\n",
       "    <tr>\n",
       "      <th>...</th>\n",
       "      <td>...</td>\n",
       "      <td>...</td>\n",
       "      <td>...</td>\n",
       "      <td>...</td>\n",
       "      <td>...</td>\n",
       "      <td>...</td>\n",
       "      <td>...</td>\n",
       "      <td>...</td>\n",
       "      <td>...</td>\n",
       "      <td>...</td>\n",
       "      <td>...</td>\n",
       "      <td>...</td>\n",
       "    </tr>\n",
       "    <tr>\n",
       "      <th>26487</th>\n",
       "      <td>448163</td>\n",
       "      <td>rejected</td>\n",
       "      <td>50</td>\n",
       "      <td>6.548443</td>\n",
       "      <td>3.367682</td>\n",
       "      <td>2021-07-09 20:10:45</td>\n",
       "      <td>30.700000</td>\n",
       "      <td>False</td>\n",
       "      <td>Friday</td>\n",
       "      <td>20</td>\n",
       "      <td>6.553579</td>\n",
       "      <td>3.3654461</td>\n",
       "    </tr>\n",
       "    <tr>\n",
       "      <th>26488</th>\n",
       "      <td>448206</td>\n",
       "      <td>rejected</td>\n",
       "      <td>45</td>\n",
       "      <td>6.629031</td>\n",
       "      <td>3.349366</td>\n",
       "      <td>2021-07-09 19:07:24</td>\n",
       "      <td>43.416667</td>\n",
       "      <td>False</td>\n",
       "      <td>Friday</td>\n",
       "      <td>19</td>\n",
       "      <td>6.630902699999999</td>\n",
       "      <td>3.342772099999999</td>\n",
       "    </tr>\n",
       "    <tr>\n",
       "      <th>26489</th>\n",
       "      <td>448235</td>\n",
       "      <td>rejected</td>\n",
       "      <td>345</td>\n",
       "      <td>6.599802</td>\n",
       "      <td>3.335208</td>\n",
       "      <td>2021-07-13 16:06:15</td>\n",
       "      <td>1.733333</td>\n",
       "      <td>False</td>\n",
       "      <td>Tuesday</td>\n",
       "      <td>16</td>\n",
       "      <td>6.6076335</td>\n",
       "      <td>3.322855</td>\n",
       "    </tr>\n",
       "    <tr>\n",
       "      <th>26490</th>\n",
       "      <td>448373</td>\n",
       "      <td>rejected</td>\n",
       "      <td>30</td>\n",
       "      <td>6.589903</td>\n",
       "      <td>3.346469</td>\n",
       "      <td>2021-07-09 19:18:47</td>\n",
       "      <td>78.933333</td>\n",
       "      <td>False</td>\n",
       "      <td>Friday</td>\n",
       "      <td>19</td>\n",
       "      <td>6.5844933</td>\n",
       "      <td>3.357566</td>\n",
       "    </tr>\n",
       "    <tr>\n",
       "      <th>26491</th>\n",
       "      <td>448463</td>\n",
       "      <td>rejected</td>\n",
       "      <td>30</td>\n",
       "      <td>6.543287</td>\n",
       "      <td>3.379595</td>\n",
       "      <td>2021-07-09 19:39:40</td>\n",
       "      <td>57.083333</td>\n",
       "      <td>False</td>\n",
       "      <td>Friday</td>\n",
       "      <td>19</td>\n",
       "      <td>6.5398079</td>\n",
       "      <td>3.3869258</td>\n",
       "    </tr>\n",
       "  </tbody>\n",
       "</table>\n",
       "<p>26492 rows × 12 columns</p>\n",
       "</div>"
      ],
      "text/plain": [
       "       order_id driver_action  action_count  driver_lat  driver_lng  \\\n",
       "0        392001      accepted             1    6.602207    3.270465   \n",
       "1        392005      accepted             1    6.549147    3.392184   \n",
       "2        392009      accepted             1    6.644829    3.289328   \n",
       "3        392013      accepted             1    6.435331    3.424317   \n",
       "4        392014      accepted             1    6.498221    3.360042   \n",
       "...         ...           ...           ...         ...         ...   \n",
       "26487    448163      rejected            50    6.548443    3.367682   \n",
       "26488    448206      rejected            45    6.629031    3.349366   \n",
       "26489    448235      rejected           345    6.599802    3.335208   \n",
       "26490    448373      rejected            30    6.589903    3.346469   \n",
       "26491    448463      rejected            30    6.543287    3.379595   \n",
       "\n",
       "           trip_start_time  duration_min  holiday Day of Week  Hour of Day  \\\n",
       "0      2021-07-01 09:30:59      3.616667    False    Thursday            9   \n",
       "1      2021-07-01 10:53:36     34.250000    False    Thursday           10   \n",
       "2      2021-07-01 06:39:51     61.350000    False    Thursday            6   \n",
       "3      2021-07-01 08:44:09     35.033333    False    Thursday            8   \n",
       "4      2021-07-01 06:43:07     44.283333    False    Thursday            6   \n",
       "...                    ...           ...      ...         ...          ...   \n",
       "26487  2021-07-09 20:10:45     30.700000    False      Friday           20   \n",
       "26488  2021-07-09 19:07:24     43.416667    False      Friday           19   \n",
       "26489  2021-07-13 16:06:15      1.733333    False     Tuesday           16   \n",
       "26490  2021-07-09 19:18:47     78.933333    False      Friday           19   \n",
       "26491  2021-07-09 19:39:40     57.083333    False      Friday           19   \n",
       "\n",
       "              origin_lat         origin_lng  \n",
       "0              6.6010417          3.2766339  \n",
       "1      6.565087699999999          3.3844415  \n",
       "2              6.6636484          3.3082058  \n",
       "3              6.4308171          3.4341552  \n",
       "4      6.499156300000001          3.3585173  \n",
       "...                  ...                ...  \n",
       "26487           6.553579          3.3654461  \n",
       "26488  6.630902699999999  3.342772099999999  \n",
       "26489          6.6076335           3.322855  \n",
       "26490          6.5844933           3.357566  \n",
       "26491          6.5398079          3.3869258  \n",
       "\n",
       "[26492 rows x 12 columns]"
      ]
     },
     "execution_count": 317,
     "metadata": {},
     "output_type": "execute_result"
    }
   ],
   "source": [
    "clean_merged_df"
   ]
  },
  {
   "cell_type": "code",
   "execution_count": 318,
   "metadata": {},
   "outputs": [],
   "source": [
    "import sys\n",
    "sys.path.append(\"../scripts/\")\n",
    "from data_cleaning import CleanData\n",
    "cleaner = CleanData()"
   ]
  },
  {
   "cell_type": "code",
   "execution_count": 319,
   "metadata": {},
   "outputs": [],
   "source": [
    "clean_merged_df = cleaner.find_distance(clean_merged_df,distance_col_name=\"distance_diff\",trip_origin_col_names=[\"driver_lat\",\"driver_lng\"],trip_destination_col_names=[\"origin_lat\",\"origin_lng\"])"
   ]
  },
  {
   "cell_type": "code",
   "execution_count": 320,
   "metadata": {},
   "outputs": [],
   "source": [
    "clean_merged_df=clean_merged_df[[\"order_id\",\"driver_lat\",\"driver_lng\",\"origin_lat\",\"origin_lng\",\"distance_diff\",\"trip_start_time\",\"duration_min\",\"holiday\",\"action_count\",\"driver_action\",\"Day of Week\",\"Hour of Day\"]]"
   ]
  },
  {
   "cell_type": "markdown",
   "metadata": {},
   "source": [
    "if the delivery minute duration is greater than 5 minutes the order is fulfilled but if not the order is not fulfilled"
   ]
  },
  {
   "cell_type": "code",
   "execution_count": 321,
   "metadata": {},
   "outputs": [
    {
     "name": "stderr",
     "output_type": "stream",
     "text": [
      "/tmp/ipykernel_5248/2125998967.py:1: SettingWithCopyWarning: \n",
      "A value is trying to be set on a copy of a slice from a DataFrame.\n",
      "Try using .loc[row_indexer,col_indexer] = value instead\n",
      "\n",
      "See the caveats in the documentation: https://pandas.pydata.org/pandas-docs/stable/user_guide/indexing.html#returning-a-view-versus-a-copy\n",
      "  clean_merged_df[\"fulfilled\"] = (clean_merged_df[\"driver_action\"] == \"accepted\") & (clean_merged_df[\"duration_min\"] >=5)\n"
     ]
    }
   ],
   "source": [
    "clean_merged_df[\"fulfilled\"] = (clean_merged_df[\"driver_action\"] == \"accepted\") & (clean_merged_df[\"duration_min\"] >=5)"
   ]
  },
  {
   "cell_type": "code",
   "execution_count": 322,
   "metadata": {},
   "outputs": [
    {
     "data": {
      "image/png": "[encoded data removed]",
      "text/plain": [
       "<Figure size 640x480 with 1 Axes>"
      ]
     },
     "metadata": {},
     "output_type": "display_data"
    }
   ],
   "source": [
    "labels= clean_merged_df[\"fulfilled\"].value_counts().index\n",
    "sizes= ( clean_merged_df[\"fulfilled\"].value_counts())\n",
    "\n",
    "plt.pie(sizes,labels=labels,startangle=60, autopct='%1.1f%%')\n",
    "\n",
    "plt.axis('equal')\n",
    "plt.title(\"Is Request fulfilled?\")\n",
    "\n",
    "plt.show()"
   ]
  },
  {
   "cell_type": "code",
   "execution_count": 323,
   "metadata": {},
   "outputs": [
    {
     "name": "stdout",
     "output_type": "stream",
     "text": [
      "<class 'pandas.core.frame.DataFrame'>\n",
      "RangeIndex: 26492 entries, 0 to 26491\n",
      "Data columns (total 14 columns):\n",
      " #   Column           Non-Null Count  Dtype  \n",
      "---  ------           --------------  -----  \n",
      " 0   order_id         26492 non-null  int64  \n",
      " 1   driver_lat       26492 non-null  float64\n",
      " 2   driver_lng       26492 non-null  float64\n",
      " 3   origin_lat       26492 non-null  object \n",
      " 4   origin_lng       26492 non-null  object \n",
      " 5   distance_diff    26492 non-null  float64\n",
      " 6   trip_start_time  26492 non-null  object \n",
      " 7   duration_min     26492 non-null  float64\n",
      " 8   holiday          26492 non-null  bool   \n",
      " 9   action_count     26492 non-null  int64  \n",
      " 10  driver_action    26492 non-null  object \n",
      " 11  Day of Week      26492 non-null  object \n",
      " 12  Hour of Day      26492 non-null  int64  \n",
      " 13  fulfilled        26492 non-null  bool   \n",
      "dtypes: bool(2), float64(4), int64(3), object(5)\n",
      "memory usage: 2.5+ MB\n"
     ]
    }
   ],
   "source": [
    "clean_merged_df.info()"
   ]
  },
  {
   "cell_type": "code",
   "execution_count": 324,
   "metadata": {},
   "outputs": [
    {
     "data": {
      "text/html": [
       "<div>\n",
       "<style scoped>\n",
       "    .dataframe tbody tr th:only-of-type {\n",
       "        vertical-align: middle;\n",
       "    }\n",
       "\n",
       "    .dataframe tbody tr th {\n",
       "        vertical-align: top;\n",
       "    }\n",
       "\n",
       "    .dataframe thead th {\n",
       "        text-align: right;\n",
       "    }\n",
       "</style>\n",
       "<table border=\"1\" class=\"dataframe\">\n",
       "  <thead>\n",
       "    <tr style=\"text-align: right;\">\n",
       "      <th></th>\n",
       "      <th>order_id</th>\n",
       "      <th>driver_lat</th>\n",
       "      <th>driver_lng</th>\n",
       "      <th>origin_lat</th>\n",
       "      <th>origin_lng</th>\n",
       "      <th>distance_diff</th>\n",
       "      <th>trip_start_time</th>\n",
       "      <th>duration_min</th>\n",
       "      <th>holiday</th>\n",
       "      <th>action_count</th>\n",
       "      <th>driver_action</th>\n",
       "      <th>Day of Week</th>\n",
       "      <th>Hour of Day</th>\n",
       "      <th>fulfilled</th>\n",
       "    </tr>\n",
       "  </thead>\n",
       "  <tbody>\n",
       "    <tr>\n",
       "      <th>0</th>\n",
       "      <td>392001</td>\n",
       "      <td>6.602207</td>\n",
       "      <td>3.270465</td>\n",
       "      <td>6.6010417</td>\n",
       "      <td>3.2766339</td>\n",
       "      <td>0.694264</td>\n",
       "      <td>2021-07-01 09:30:59</td>\n",
       "      <td>3.616667</td>\n",
       "      <td>False</td>\n",
       "      <td>1</td>\n",
       "      <td>accepted</td>\n",
       "      <td>Thursday</td>\n",
       "      <td>9</td>\n",
       "      <td>False</td>\n",
       "    </tr>\n",
       "    <tr>\n",
       "      <th>1</th>\n",
       "      <td>392005</td>\n",
       "      <td>6.549147</td>\n",
       "      <td>3.392184</td>\n",
       "      <td>6.565087699999999</td>\n",
       "      <td>3.3844415</td>\n",
       "      <td>1.959786</td>\n",
       "      <td>2021-07-01 10:53:36</td>\n",
       "      <td>34.250000</td>\n",
       "      <td>False</td>\n",
       "      <td>1</td>\n",
       "      <td>accepted</td>\n",
       "      <td>Thursday</td>\n",
       "      <td>10</td>\n",
       "      <td>True</td>\n",
       "    </tr>\n",
       "    <tr>\n",
       "      <th>2</th>\n",
       "      <td>392009</td>\n",
       "      <td>6.644829</td>\n",
       "      <td>3.289328</td>\n",
       "      <td>6.6636484</td>\n",
       "      <td>3.3082058</td>\n",
       "      <td>2.947683</td>\n",
       "      <td>2021-07-01 06:39:51</td>\n",
       "      <td>61.350000</td>\n",
       "      <td>False</td>\n",
       "      <td>1</td>\n",
       "      <td>accepted</td>\n",
       "      <td>Thursday</td>\n",
       "      <td>6</td>\n",
       "      <td>True</td>\n",
       "    </tr>\n",
       "    <tr>\n",
       "      <th>3</th>\n",
       "      <td>392013</td>\n",
       "      <td>6.435331</td>\n",
       "      <td>3.424317</td>\n",
       "      <td>6.4308171</td>\n",
       "      <td>3.4341552</td>\n",
       "      <td>1.197389</td>\n",
       "      <td>2021-07-01 08:44:09</td>\n",
       "      <td>35.033333</td>\n",
       "      <td>False</td>\n",
       "      <td>1</td>\n",
       "      <td>accepted</td>\n",
       "      <td>Thursday</td>\n",
       "      <td>8</td>\n",
       "      <td>True</td>\n",
       "    </tr>\n",
       "    <tr>\n",
       "      <th>4</th>\n",
       "      <td>392014</td>\n",
       "      <td>6.498221</td>\n",
       "      <td>3.360042</td>\n",
       "      <td>6.499156300000001</td>\n",
       "      <td>3.3585173</td>\n",
       "      <td>0.197853</td>\n",
       "      <td>2021-07-01 06:43:07</td>\n",
       "      <td>44.283333</td>\n",
       "      <td>False</td>\n",
       "      <td>1</td>\n",
       "      <td>accepted</td>\n",
       "      <td>Thursday</td>\n",
       "      <td>6</td>\n",
       "      <td>True</td>\n",
       "    </tr>\n",
       "    <tr>\n",
       "      <th>...</th>\n",
       "      <td>...</td>\n",
       "      <td>...</td>\n",
       "      <td>...</td>\n",
       "      <td>...</td>\n",
       "      <td>...</td>\n",
       "      <td>...</td>\n",
       "      <td>...</td>\n",
       "      <td>...</td>\n",
       "      <td>...</td>\n",
       "      <td>...</td>\n",
       "      <td>...</td>\n",
       "      <td>...</td>\n",
       "      <td>...</td>\n",
       "      <td>...</td>\n",
       "    </tr>\n",
       "    <tr>\n",
       "      <th>26487</th>\n",
       "      <td>448163</td>\n",
       "      <td>6.548443</td>\n",
       "      <td>3.367682</td>\n",
       "      <td>6.553579</td>\n",
       "      <td>3.3654461</td>\n",
       "      <td>0.619439</td>\n",
       "      <td>2021-07-09 20:10:45</td>\n",
       "      <td>30.700000</td>\n",
       "      <td>False</td>\n",
       "      <td>50</td>\n",
       "      <td>rejected</td>\n",
       "      <td>Friday</td>\n",
       "      <td>20</td>\n",
       "      <td>False</td>\n",
       "    </tr>\n",
       "    <tr>\n",
       "      <th>26488</th>\n",
       "      <td>448206</td>\n",
       "      <td>6.629031</td>\n",
       "      <td>3.349366</td>\n",
       "      <td>6.630902699999999</td>\n",
       "      <td>3.342772099999999</td>\n",
       "      <td>0.757986</td>\n",
       "      <td>2021-07-09 19:07:24</td>\n",
       "      <td>43.416667</td>\n",
       "      <td>False</td>\n",
       "      <td>45</td>\n",
       "      <td>rejected</td>\n",
       "      <td>Friday</td>\n",
       "      <td>19</td>\n",
       "      <td>False</td>\n",
       "    </tr>\n",
       "    <tr>\n",
       "      <th>26489</th>\n",
       "      <td>448235</td>\n",
       "      <td>6.599802</td>\n",
       "      <td>3.335208</td>\n",
       "      <td>6.6076335</td>\n",
       "      <td>3.322855</td>\n",
       "      <td>1.617454</td>\n",
       "      <td>2021-07-13 16:06:15</td>\n",
       "      <td>1.733333</td>\n",
       "      <td>False</td>\n",
       "      <td>345</td>\n",
       "      <td>rejected</td>\n",
       "      <td>Tuesday</td>\n",
       "      <td>16</td>\n",
       "      <td>False</td>\n",
       "    </tr>\n",
       "    <tr>\n",
       "      <th>26490</th>\n",
       "      <td>448373</td>\n",
       "      <td>6.589903</td>\n",
       "      <td>3.346469</td>\n",
       "      <td>6.5844933</td>\n",
       "      <td>3.357566</td>\n",
       "      <td>1.365251</td>\n",
       "      <td>2021-07-09 19:18:47</td>\n",
       "      <td>78.933333</td>\n",
       "      <td>False</td>\n",
       "      <td>30</td>\n",
       "      <td>rejected</td>\n",
       "      <td>Friday</td>\n",
       "      <td>19</td>\n",
       "      <td>False</td>\n",
       "    </tr>\n",
       "    <tr>\n",
       "      <th>26491</th>\n",
       "      <td>448463</td>\n",
       "      <td>6.543287</td>\n",
       "      <td>3.379595</td>\n",
       "      <td>6.5398079</td>\n",
       "      <td>3.3869258</td>\n",
       "      <td>0.897449</td>\n",
       "      <td>2021-07-09 19:39:40</td>\n",
       "      <td>57.083333</td>\n",
       "      <td>False</td>\n",
       "      <td>30</td>\n",
       "      <td>rejected</td>\n",
       "      <td>Friday</td>\n",
       "      <td>19</td>\n",
       "      <td>False</td>\n",
       "    </tr>\n",
       "  </tbody>\n",
       "</table>\n",
       "<p>26492 rows × 14 columns</p>\n",
       "</div>"
      ],
      "text/plain": [
       "       order_id  driver_lat  driver_lng         origin_lat         origin_lng  \\\n",
       "0        392001    6.602207    3.270465          6.6010417          3.2766339   \n",
       "1        392005    6.549147    3.392184  6.565087699999999          3.3844415   \n",
       "2        392009    6.644829    3.289328          6.6636484          3.3082058   \n",
       "3        392013    6.435331    3.424317          6.4308171          3.4341552   \n",
       "4        392014    6.498221    3.360042  6.499156300000001          3.3585173   \n",
       "...         ...         ...         ...                ...                ...   \n",
       "26487    448163    6.548443    3.367682           6.553579          3.3654461   \n",
       "26488    448206    6.629031    3.349366  6.630902699999999  3.342772099999999   \n",
       "26489    448235    6.599802    3.335208          6.6076335           3.322855   \n",
       "26490    448373    6.589903    3.346469          6.5844933           3.357566   \n",
       "26491    448463    6.543287    3.379595          6.5398079          3.3869258   \n",
       "\n",
       "       distance_diff      trip_start_time  duration_min  holiday  \\\n",
       "0           0.694264  2021-07-01 09:30:59      3.616667    False   \n",
       "1           1.959786  2021-07-01 10:53:36     34.250000    False   \n",
       "2           2.947683  2021-07-01 06:39:51     61.350000    False   \n",
       "3           1.197389  2021-07-01 08:44:09     35.033333    False   \n",
       "4           0.197853  2021-07-01 06:43:07     44.283333    False   \n",
       "...              ...                  ...           ...      ...   \n",
       "26487       0.619439  2021-07-09 20:10:45     30.700000    False   \n",
       "26488       0.757986  2021-07-09 19:07:24     43.416667    False   \n",
       "26489       1.617454  2021-07-13 16:06:15      1.733333    False   \n",
       "26490       1.365251  2021-07-09 19:18:47     78.933333    False   \n",
       "26491       0.897449  2021-07-09 19:39:40     57.083333    False   \n",
       "\n",
       "       action_count driver_action Day of Week  Hour of Day  fulfilled  \n",
       "0                 1      accepted    Thursday            9      False  \n",
       "1                 1      accepted    Thursday           10       True  \n",
       "2                 1      accepted    Thursday            6       True  \n",
       "3                 1      accepted    Thursday            8       True  \n",
       "4                 1      accepted    Thursday            6       True  \n",
       "...             ...           ...         ...          ...        ...  \n",
       "26487            50      rejected      Friday           20      False  \n",
       "26488            45      rejected      Friday           19      False  \n",
       "26489           345      rejected     Tuesday           16      False  \n",
       "26490            30      rejected      Friday           19      False  \n",
       "26491            30      rejected      Friday           19      False  \n",
       "\n",
       "[26492 rows x 14 columns]"
      ]
     },
     "execution_count": 324,
     "metadata": {},
     "output_type": "execute_result"
    }
   ],
   "source": [
    "clean_merged_df"
   ]
  },
  {
   "cell_type": "markdown",
   "metadata": {},
   "source": [
    "handling outliers"
   ]
  },
  {
   "cell_type": "code",
   "execution_count": 325,
   "metadata": {},
   "outputs": [
    {
     "name": "stdout",
     "output_type": "stream",
     "text": [
      "Number of outliers: 1346\n",
      "       order_id  driver_lat  driver_lng         origin_lat  \\\n",
      "7        392021    6.595759    3.288074          6.5943334   \n",
      "16       392040    6.500949    3.583668  6.500608199999999   \n",
      "52       392116    6.594403    3.341211  6.587144320851279   \n",
      "62       392138    6.458376    3.271094          6.4488667   \n",
      "197      392399    6.624827    3.263846          6.6223452   \n",
      "...         ...         ...         ...                ...   \n",
      "26406    432715    6.592169    3.406351  6.600270699999999   \n",
      "26416    435601    6.569538    3.266494          6.5569346   \n",
      "26426    437895    6.720626    3.399670          6.7156816   \n",
      "26430    438262    6.557266    3.358543  6.563650000000001   \n",
      "26486    448076    6.634033    3.349620  6.635186300000001   \n",
      "\n",
      "               origin_lng  distance_diff      trip_start_time  duration_min  \\\n",
      "7               3.3007843       1.414449  2021-07-01 07:11:36    170.166667   \n",
      "16              3.5981937       1.607153  2021-07-01 10:15:03    216.966667   \n",
      "52     3.3315106205416787       1.339858  2021-07-01 08:24:35    178.350000   \n",
      "62              3.2622026       1.439891  2021-07-01 08:20:20    398.150000   \n",
      "197             3.2613024       0.392994  2021-07-01 08:52:41    160.666667   \n",
      "...                   ...            ...                  ...           ...   \n",
      "26406           3.4242379       2.171501  2021-07-07 16:32:56    138.533333   \n",
      "26416           3.2549354       1.891193  2021-07-08 11:34:42    163.483333   \n",
      "26426           3.4108816       1.354771  2021-07-08 17:37:17   1233.566667   \n",
      "26430           3.3478796       1.374519  2021-07-08 15:08:51    360.116667   \n",
      "26486           3.3449312       0.533902  2021-07-09 18:21:11    169.850000   \n",
      "\n",
      "       holiday  action_count driver_action Day of Week  Hour of Day  fulfilled  \n",
      "7        False             1      accepted    Thursday            7       True  \n",
      "16       False             1      accepted    Thursday           10       True  \n",
      "52       False             1      accepted    Thursday            8       True  \n",
      "62       False             1      accepted    Thursday            8       True  \n",
      "197      False             1      accepted    Thursday            8       True  \n",
      "...        ...           ...           ...         ...          ...        ...  \n",
      "26406    False             3      rejected   Wednesday           16      False  \n",
      "26416    False            31      rejected    Thursday           11      False  \n",
      "26426    False             9      rejected    Thursday           17      False  \n",
      "26430    False            90      rejected    Thursday           15      False  \n",
      "26486    False            23      rejected      Friday           18      False  \n",
      "\n",
      "[1346 rows x 14 columns]\n"
     ]
    }
   ],
   "source": [
    "Q1 = clean_merged_df['duration_min'].quantile(0.25)\n",
    "Q3 = clean_merged_df['duration_min'].quantile(0.75)\n",
    "IQR = Q3 - Q1\n",
    "\n",
    "# Define the threshold for considering values as outliers\n",
    "threshold = 1.5\n",
    "\n",
    "# Identify outliers\n",
    "outliers = clean_merged_df[(clean_merged_df['duration_min'] < (Q1 - threshold * IQR)) | (clean_merged_df['duration_min'] > (Q3 + threshold * IQR))]\n",
    "\n",
    "print(\"Number of outliers:\", len(outliers))\n",
    "print(outliers)\n"
   ]
  },
  {
   "cell_type": "code",
   "execution_count": 326,
   "metadata": {},
   "outputs": [
    {
     "data": {
      "image/png": "[encoded data removed]",
      "text/plain": [
       "<Figure size 1000x600 with 1 Axes>"
      ]
     },
     "metadata": {},
     "output_type": "display_data"
    }
   ],
   "source": [
    "import matplotlib.pyplot as plt\n",
    "import seaborn as sns\n",
    "\n",
    "# Assuming your DataFrame is named df\n",
    "plt.figure(figsize=(10, 6))\n",
    "sns.boxplot(x=clean_merged_df['duration_min'])\n",
    "plt.title('Boxplot of Duration (minutes)')\n",
    "plt.xlabel('Duration (minutes)')\n",
    "plt.show()"
   ]
  },
  {
   "cell_type": "markdown",
   "metadata": {},
   "source": [
    "remove the outliers"
   ]
  },
  {
   "cell_type": "code",
   "execution_count": 327,
   "metadata": {},
   "outputs": [
    {
     "name": "stdout",
     "output_type": "stream",
     "text": [
      "Number of outliers removed: 1346\n"
     ]
    }
   ],
   "source": [
    "# Calculate the interquartile range (IQR)\n",
    "Q1 = clean_merged_df['duration_min'].quantile(0.25)\n",
    "Q3 = clean_merged_df['duration_min'].quantile(0.75)\n",
    "IQR = Q3 - Q1\n",
    "\n",
    "# Define the lower and upper bounds for outliers\n",
    "lower_bound = Q1 - 1.5 * IQR\n",
    "upper_bound = Q3 + 1.5 * IQR\n",
    "\n",
    "# Filter the DataFrame to exclude outliers\n",
    "filtered_df = clean_merged_df[(clean_merged_df['duration_min'] >= lower_bound) & (clean_merged_df['duration_min'] <= upper_bound)]\n",
    "\n",
    "# Print the number of rows removed\n",
    "print(\"Number of outliers removed:\", len(clean_merged_df) - len(filtered_df))\n",
    "\n",
    "# Optionally, you can reset the index of the filtered DataFrame\n",
    "filtered_df.reset_index(drop=True, inplace=True)\n"
   ]
  },
  {
   "cell_type": "code",
   "execution_count": 328,
   "metadata": {},
   "outputs": [
    {
     "data": {
      "image/png": "[encoded data removed]",
      "text/plain": [
       "<Figure size 800x500 with 1 Axes>"
      ]
     },
     "metadata": {},
     "output_type": "display_data"
    }
   ],
   "source": [
    "import matplotlib.pyplot as plt\n",
    "import seaborn as sns\n",
    "\n",
    "# Assuming your DataFrame is named df\n",
    "plt.figure(figsize=(8, 5))\n",
    "sns.boxplot(x=filtered_df['duration_min'])\n",
    "plt.title('Boxplot of Duration (minutes)')\n",
    "plt.xlabel('Duration (minutes)')\n",
    "plt.show()"
   ]
  },
  {
   "cell_type": "code",
   "execution_count": 329,
   "metadata": {},
   "outputs": [],
   "source": [
    "accept_1km=filtered_df[(filtered_df[\"distance_diff\"]<=1) & (filtered_df[\"driver_action\"]==\"accepted\")].shape[0]\n",
    "reject_1km=filtered_df[(filtered_df[\"distance_diff\"]<=1) & (filtered_df[\"driver_action\"]==\"rejected\")].shape[0]"
   ]
  },
  {
   "cell_type": "code",
   "execution_count": 330,
   "metadata": {},
   "outputs": [
    {
     "name": "stderr",
     "output_type": "stream",
     "text": [
      "/tmp/ipykernel_5248/3281924105.py:1: UserWarning: Boolean Series key will be reindexed to match DataFrame index.\n",
      "  accept_more_1km=filtered_df[(clean_merged_df[\"distance_diff\"]>1) & (filtered_df[\"driver_action\"]==\"accepted\")].shape[0]\n"
     ]
    }
   ],
   "source": [
    "accept_more_1km=filtered_df[(clean_merged_df[\"distance_diff\"]>1) & (filtered_df[\"driver_action\"]==\"accepted\")].shape[0]\n",
    "reject_more_1km=filtered_df[(filtered_df[\"distance_diff\"]>1) & (filtered_df[\"driver_action\"]==\"rejected\")].shape[0]"
   ]
  },
  {
   "cell_type": "code",
   "execution_count": 331,
   "metadata": {},
   "outputs": [
    {
     "name": "stdout",
     "output_type": "stream",
     "text": [
      "8113 requests were accepted by drivers within 1km while 347 were rejected within 1km radius\n",
      "16468 requests were accepted by drivers more than 1km while 234 were rejected more than 1km radius\n"
     ]
    }
   ],
   "source": [
    "print(f\"{accept_1km} requests were accepted by drivers within 1km while {reject_1km} were rejected within 1km radius\")\n",
    "print(f\"{accept_more_1km} requests were accepted by drivers more than 1km while {reject_more_1km} were rejected more than 1km radius\")\n"
   ]
  },
  {
   "cell_type": "code",
   "execution_count": 332,
   "metadata": {},
   "outputs": [],
   "source": [
    "acceptance_summary=pd.DataFrame(data=[[accept_1km,reject_1km],[accept_more_1km,reject_more_1km]],columns=[\"accepted\",\"rejected\"],index=[\"with in 1km\",\"more than 1km\"])"
   ]
  },
  {
   "cell_type": "code",
   "execution_count": 333,
   "metadata": {},
   "outputs": [
    {
     "data": {
      "image/png": "[encoded data removed]",
      "text/plain": [
       "<Figure size 800x500 with 2 Axes>"
      ]
     },
     "metadata": {},
     "output_type": "display_data"
    }
   ],
   "source": [
    "acceptance_summary.plot(kind='bar',subplots=True,rot=30,figsize=(8,5))\n",
    "plt.suptitle(\"Request Acceptance summary\")\n",
    "plt.show()"
   ]
  },
  {
   "cell_type": "code",
   "execution_count": 334,
   "metadata": {},
   "outputs": [],
   "source": [
    "clean_merged_df.to_csv(\"../data/merged_df_cleaned.csv\",index=False)"
   ]
  },
  {
   "cell_type": "code",
   "execution_count": 335,
   "metadata": {},
   "outputs": [
    {
     "data": {
      "text/plain": [
       "order_id           25146\n",
       "driver_lat         24043\n",
       "driver_lng         20405\n",
       "origin_lat         14011\n",
       "origin_lng         13937\n",
       "distance_diff      25012\n",
       "trip_start_time    23956\n",
       "duration_min        6748\n",
       "holiday                1\n",
       "action_count         193\n",
       "driver_action          2\n",
       "Day of Week            7\n",
       "Hour of Day           19\n",
       "fulfilled              2\n",
       "dtype: int64"
      ]
     },
     "execution_count": 335,
     "metadata": {},
     "output_type": "execute_result"
    }
   ],
   "source": [
    "filtered_df.nunique()"
   ]
  },
  {
   "cell_type": "code",
   "execution_count": 336,
   "metadata": {},
   "outputs": [
    {
     "name": "stdout",
     "output_type": "stream",
     "text": [
      "       order_id  driver_lat  driver_lng         origin_lat         origin_lng  \\\n",
      "0        392001    6.602207    3.270465          6.6010417          3.2766339   \n",
      "1        392005    6.549147    3.392184  6.565087699999999          3.3844415   \n",
      "2        392009    6.644829    3.289328          6.6636484          3.3082058   \n",
      "3        392013    6.435331    3.424317          6.4308171          3.4341552   \n",
      "4        392014    6.498221    3.360042  6.499156300000001          3.3585173   \n",
      "...         ...         ...         ...                ...                ...   \n",
      "25141    448163    6.548443    3.367682           6.553579          3.3654461   \n",
      "25142    448206    6.629031    3.349366  6.630902699999999  3.342772099999999   \n",
      "25143    448235    6.599802    3.335208          6.6076335           3.322855   \n",
      "25144    448373    6.589903    3.346469          6.5844933           3.357566   \n",
      "25145    448463    6.543287    3.379595          6.5398079          3.3869258   \n",
      "\n",
      "       distance_diff      trip_start_time  duration_min  holiday  \\\n",
      "0           0.694264  2021-07-01 09:30:59      3.616667    False   \n",
      "1           1.959786  2021-07-01 10:53:36     34.250000    False   \n",
      "2           2.947683  2021-07-01 06:39:51     61.350000    False   \n",
      "3           1.197389  2021-07-01 08:44:09     35.033333    False   \n",
      "4           0.197853  2021-07-01 06:43:07     44.283333    False   \n",
      "...              ...                  ...           ...      ...   \n",
      "25141       0.619439  2021-07-09 20:10:45     30.700000    False   \n",
      "25142       0.757986  2021-07-09 19:07:24     43.416667    False   \n",
      "25143       1.617454  2021-07-13 16:06:15      1.733333    False   \n",
      "25144       1.365251  2021-07-09 19:18:47     78.933333    False   \n",
      "25145       0.897449  2021-07-09 19:39:40     57.083333    False   \n",
      "\n",
      "       action_count driver_action Day of Week  Hour of Day  fulfilled  \\\n",
      "0                 1      accepted    Thursday            9      False   \n",
      "1                 1      accepted    Thursday           10       True   \n",
      "2                 1      accepted    Thursday            6       True   \n",
      "3                 1      accepted    Thursday            8       True   \n",
      "4                 1      accepted    Thursday            6       True   \n",
      "...             ...           ...         ...          ...        ...   \n",
      "25141            50      rejected      Friday           20      False   \n",
      "25142            45      rejected      Friday           19      False   \n",
      "25143           345      rejected     Tuesday           16      False   \n",
      "25144            30      rejected      Friday           19      False   \n",
      "25145            30      rejected      Friday           19      False   \n",
      "\n",
      "       IsWeekend  \n",
      "0           True  \n",
      "1           True  \n",
      "2           True  \n",
      "3           True  \n",
      "4           True  \n",
      "...          ...  \n",
      "25141       True  \n",
      "25142       True  \n",
      "25143       True  \n",
      "25144       True  \n",
      "25145       True  \n",
      "\n",
      "[25146 rows x 15 columns]\n"
     ]
    },
    {
     "name": "stderr",
     "output_type": "stream",
     "text": [
      "/tmp/ipykernel_5248/2954800480.py:12: SettingWithCopyWarning: \n",
      "A value is trying to be set on a copy of a slice from a DataFrame.\n",
      "Try using .loc[row_indexer,col_indexer] = value instead\n",
      "\n",
      "See the caveats in the documentation: https://pandas.pydata.org/pandas-docs/stable/user_guide/indexing.html#returning-a-view-versus-a-copy\n",
      "  filtered_df['IsWeekend'] = filtered_df['Day of Week'].map(day_map)\n",
      "/tmp/ipykernel_5248/2954800480.py:15: SettingWithCopyWarning: \n",
      "A value is trying to be set on a copy of a slice from a DataFrame.\n",
      "Try using .loc[row_indexer,col_indexer] = value instead\n",
      "\n",
      "See the caveats in the documentation: https://pandas.pydata.org/pandas-docs/stable/user_guide/indexing.html#returning-a-view-versus-a-copy\n",
      "  filtered_df['IsWeekend'] = filtered_df['IsWeekend'].astype(bool)\n"
     ]
    }
   ],
   "source": [
    "# Assuming your DataFrame is named df\n",
    "# Step 1: Map day names to weekdays (1) or weekends (0)\n",
    "day_map = {\n",
    "    'Monday': 1, \n",
    "    'Tuesday': 1, \n",
    "    'Wednesday': 1, \n",
    "    'Thursday': 1, \n",
    "    'Friday': 1,\n",
    "    'Saturday': 0,\n",
    "    'Sunday': 0\n",
    "}\n",
    "filtered_df['IsWeekend'] = filtered_df['Day of Week'].map(day_map)\n",
    "\n",
    "# Step 2: Convert the mapped values to boolean\n",
    "filtered_df['IsWeekend'] = filtered_df['IsWeekend'].astype(bool)\n",
    "\n",
    "# Display the DataFrame with the new 'IsWeekend' column\n",
    "print(filtered_df)\n"
   ]
  },
  {
   "cell_type": "code",
   "execution_count": 337,
   "metadata": {},
   "outputs": [
    {
     "data": {
      "text/plain": [
       "order_id           25146\n",
       "driver_lat         24043\n",
       "driver_lng         20405\n",
       "origin_lat         14011\n",
       "origin_lng         13937\n",
       "distance_diff      25012\n",
       "trip_start_time    23956\n",
       "duration_min        6748\n",
       "holiday                1\n",
       "action_count         193\n",
       "driver_action          2\n",
       "Day of Week            7\n",
       "Hour of Day           19\n",
       "fulfilled              2\n",
       "IsWeekend              2\n",
       "dtype: int64"
      ]
     },
     "execution_count": 337,
     "metadata": {},
     "output_type": "execute_result"
    }
   ],
   "source": [
    "filtered_df.nunique()"
   ]
  },
  {
   "cell_type": "code",
   "execution_count": 339,
   "metadata": {},
   "outputs": [
    {
     "name": "stdout",
     "output_type": "stream",
     "text": [
      "<class 'pandas.core.frame.DataFrame'>\n",
      "RangeIndex: 25146 entries, 0 to 25145\n",
      "Data columns (total 15 columns):\n",
      " #   Column           Non-Null Count  Dtype  \n",
      "---  ------           --------------  -----  \n",
      " 0   order_id         25146 non-null  int64  \n",
      " 1   driver_lat       25146 non-null  float64\n",
      " 2   driver_lng       25146 non-null  float64\n",
      " 3   origin_lat       25146 non-null  object \n",
      " 4   origin_lng       25146 non-null  object \n",
      " 5   distance_diff    25146 non-null  float64\n",
      " 6   trip_start_time  25146 non-null  object \n",
      " 7   duration_min     25146 non-null  float64\n",
      " 8   holiday          25146 non-null  bool   \n",
      " 9   action_count     25146 non-null  int64  \n",
      " 10  driver_action    25146 non-null  object \n",
      " 11  Day of Week      25146 non-null  object \n",
      " 12  Hour of Day      25146 non-null  int64  \n",
      " 13  fulfilled        25146 non-null  bool   \n",
      " 14  IsWeekend        25146 non-null  bool   \n",
      "dtypes: bool(3), float64(4), int64(3), object(5)\n",
      "memory usage: 2.4+ MB\n"
     ]
    }
   ],
   "source": [
    "filtered_df.info()"
   ]
  },
  {
   "cell_type": "code",
   "execution_count": 342,
   "metadata": {},
   "outputs": [
    {
     "data": {
      "image/png": "[encoded data removed]",
      "text/plain": [
       "<Figure size 640x480 with 1 Axes>"
      ]
     },
     "metadata": {},
     "output_type": "display_data"
    }
   ],
   "source": [
    "import pandas as pd\n",
    "import matplotlib.pyplot as plt\n",
    "\n",
    "# Step 1: Filter the DataFrame to include only fulfilled orders\n",
    "fulfilled_orders_df = filtered_df[filtered_df['fulfilled']]\n",
    "\n",
    "# Step 2: Group by 'IsWeekend' and count the number of orders\n",
    "orders_by_weekend = fulfilled_orders_df.groupby('IsWeekend').size()\n",
    "\n",
    "# Step 3: Plot the bar chart\n",
    "orders_by_weekend.plot(kind='bar', rot=0)\n",
    "plt.title('Number of Orders Accepted on Weekdays vs Weekends')\n",
    "plt.xlabel('IsWeekend')\n",
    "plt.ylabel('Number of Orders')\n",
    "plt.xticks([0, 1], ['Weekday', 'Weekend'])\n",
    "plt.show()\n"
   ]
  }
 ],
 "metadata": {
  "kernelspec": {
   "display_name": ".venv",
   "language": "python",
   "name": "python3"
  },
  "language_info": {
   "codemirror_mode": {
    "name": "ipython",
    "version": 3
   },
   "file_extension": ".py",
   "mimetype": "text/x-python",
   "name": "python",
   "nbconvert_exporter": "python",
   "pygments_lexer": "ipython3",
   "version": "3.10.12"
  }
 },
 "nbformat": 4,
 "nbformat_minor": 2
}
